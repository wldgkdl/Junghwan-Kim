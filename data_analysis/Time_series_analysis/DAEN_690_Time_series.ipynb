{
 "cells": [
  {
   "cell_type": "code",
   "execution_count": 97,
   "metadata": {},
   "outputs": [],
   "source": [
    "import pandas as pd\n",
    "import numpy as np\n",
    "import matplotlib.pyplot as plt\n",
    "from matplotlib import pyplot\n",
    "from pandas import DataFrame\n",
    "from datetime import timedelta\n",
    "import datetime\n",
    "import yfinance as yf\n",
    "import missingno as msno\n",
    "from sklearn.preprocessing import MinMaxScaler\n",
    "from sklearn.preprocessing import LabelEncoder\n",
    "from keras.models import Sequential\n",
    "from keras.layers.recurrent import LSTM\n",
    "from keras.layers import Activation, Dense\n",
    "from keras.layers import concatenate\n",
    "import itertools\n",
    "import warnings\n",
    "import matplotlib.pyplot as plt\n",
    "%matplotlib inline\n",
    "from sklearn.preprocessing import MinMaxScaler\n",
    "from statsmodels.tsa.api import VAR\n",
    "from statsmodels.tsa.stattools import adfuller\n",
    "from statsmodels.tools.eval_measures import rmse, aic\n",
    "from statsmodels.tsa.stattools import grangercausalitytests\n",
    "import math\n",
    "from sklearn.metrics import mean_squared_error\n",
    "from statsmodels.tsa.seasonal import seasonal_decompose\n",
    "from statsmodels.tsa.stattools import acf\n",
    "import statsmodels.api as sm\n",
    "from statsmodels.stats.stattools import durbin_watson\n",
    "from scipy import stats\n",
    "from scipy.stats import ttest_ind\n",
    "from scipy.stats import f_oneway\n",
    "from statsmodels.stats.multicomp import pairwise_tukeyhsd\n",
    "import seaborn as sns\n",
    "sns.set(style=\"darkgrid\")"
   ]
  },
  {
   "cell_type": "markdown",
   "metadata": {},
   "source": [
    "# 1. Data import & preprocessing #"
   ]
  },
  {
   "cell_type": "markdown",
   "metadata": {},
   "source": [
    "## 1.1 Import economic data ##"
   ]
  },
  {
   "cell_type": "code",
   "execution_count": 2,
   "metadata": {},
   "outputs": [],
   "source": [
    "ex_rate = pd.read_csv('Exchange_daily.csv', thousands=',')\n",
    "trade = pd.read_csv('trade.csv',thousands=',')\n",
    "leading = pd.read_csv('Leading.csv')\n",
    "interest = pd.read_csv('Interest.csv')\n",
    "leading_us = leading[leading.Country=='United States']\n",
    "leading_korea = leading[leading.Country=='Korea']"
   ]
  },
  {
   "cell_type": "markdown",
   "metadata": {},
   "source": [
    "## 1.2 Data preprocessing ##"
   ]
  },
  {
   "cell_type": "markdown",
   "metadata": {},
   "source": [
    "### 1.2.1 Select variable from data and change columns name ###"
   ]
  },
  {
   "cell_type": "code",
   "execution_count": 3,
   "metadata": {},
   "outputs": [],
   "source": [
    "interest = interest[['DATE','INTDSRUSM193N']]\n",
    "leading_us = leading_us[['Time','Value']]\n",
    "leading_korea = leading_korea[['Time','Value']]\n",
    "ex_rate = ex_rate[['Date','Price']]\n",
    "trade_balance = trade[['Month','Balance']]\n",
    "exports = trade[['Month','Exports']]\n",
    "imports = trade[['Month','Imports']]"
   ]
  },
  {
   "cell_type": "code",
   "execution_count": 4,
   "metadata": {},
   "outputs": [],
   "source": [
    "trade_balance.columns=['Date','Balance']\n",
    "exports.columns=['Date','Exports']\n",
    "imports.columns=['Date','Imports']\n",
    "interest.columns = ['Date','interest']\n",
    "leading_us.columns = ['Date','leading_us']\n",
    "leading_korea.columns = ['Date','leading_korea']\n",
    "ex_rate.columns = ['Date','exchange_rate']"
   ]
  },
  {
   "cell_type": "markdown",
   "metadata": {},
   "source": [
    "### 1.2.2 Change datatype of 'Date' variable ###"
   ]
  },
  {
   "cell_type": "code",
   "execution_count": 5,
   "metadata": {},
   "outputs": [
    {
     "name": "stderr",
     "output_type": "stream",
     "text": [
      "C:\\ProgramData\\Anaconda3\\lib\\site-packages\\ipykernel_launcher.py:1: SettingWithCopyWarning: \n",
      "A value is trying to be set on a copy of a slice from a DataFrame.\n",
      "Try using .loc[row_indexer,col_indexer] = value instead\n",
      "\n",
      "See the caveats in the documentation: http://pandas.pydata.org/pandas-docs/stable/user_guide/indexing.html#returning-a-view-versus-a-copy\n",
      "  \"\"\"Entry point for launching an IPython kernel.\n",
      "C:\\ProgramData\\Anaconda3\\lib\\site-packages\\ipykernel_launcher.py:2: SettingWithCopyWarning: \n",
      "A value is trying to be set on a copy of a slice from a DataFrame.\n",
      "Try using .loc[row_indexer,col_indexer] = value instead\n",
      "\n",
      "See the caveats in the documentation: http://pandas.pydata.org/pandas-docs/stable/user_guide/indexing.html#returning-a-view-versus-a-copy\n",
      "  \n",
      "C:\\ProgramData\\Anaconda3\\lib\\site-packages\\ipykernel_launcher.py:3: SettingWithCopyWarning: \n",
      "A value is trying to be set on a copy of a slice from a DataFrame.\n",
      "Try using .loc[row_indexer,col_indexer] = value instead\n",
      "\n",
      "See the caveats in the documentation: http://pandas.pydata.org/pandas-docs/stable/user_guide/indexing.html#returning-a-view-versus-a-copy\n",
      "  This is separate from the ipykernel package so we can avoid doing imports until\n"
     ]
    }
   ],
   "source": [
    "trade_balance['Date'] = pd.to_datetime(trade_balance['Date'])\n",
    "exports['Date'] = pd.to_datetime(exports['Date'])\n",
    "imports['Date'] = pd.to_datetime(imports['Date'])\n",
    "interest['Date'] = pd.to_datetime(interest['Date'])\n",
    "leading_us['Date'] = pd.to_datetime(leading_us['Date'])\n",
    "leading_korea['Date'] = pd.to_datetime(leading_korea['Date'])\n",
    "ex_rate['Date'] = pd.to_datetime(ex_rate['Date'])\n"
   ]
  },
  {
   "cell_type": "markdown",
   "metadata": {},
   "source": [
    "### 1.2.3 Aggregate 'Exchange Rate' variable to monthly average ### "
   ]
  },
  {
   "cell_type": "code",
   "execution_count": 6,
   "metadata": {},
   "outputs": [
    {
     "name": "stderr",
     "output_type": "stream",
     "text": [
      "C:\\ProgramData\\Anaconda3\\lib\\site-packages\\ipykernel_launcher.py:3: FutureWarning: how in .resample() is deprecated\n",
      "the new syntax is .resample(...)..apply(<func>)\n",
      "  This is separate from the ipykernel package so we can avoid doing imports until\n",
      "C:\\ProgramData\\Anaconda3\\lib\\site-packages\\pandas\\core\\resample.py:956: FutureWarning: using a dict with renaming is deprecated and will be removed\n",
      "in a future version.\n",
      "\n",
      "For column-specific groupby renaming, use named aggregation\n",
      "\n",
      "    >>> df.groupby(...).agg(name=('column', aggfunc))\n",
      "\n",
      "  r = r.aggregate(how)\n"
     ]
    }
   ],
   "source": [
    "ex_rate.set_index(ex_rate['Date'], inplace=True)\n",
    "ex_rate = ex_rate.drop('Date', 1)\n",
    "ex_rate_month = ex_rate.resample('MS', how={'monthly':np.mean}).fillna(0)"
   ]
  },
  {
   "cell_type": "markdown",
   "metadata": {},
   "source": [
    "### 1.2.4 Merge every data to one data frame ###"
   ]
  },
  {
   "cell_type": "code",
   "execution_count": 7,
   "metadata": {},
   "outputs": [
    {
     "name": "stderr",
     "output_type": "stream",
     "text": [
      "C:\\ProgramData\\Anaconda3\\lib\\site-packages\\pandas\\core\\reshape\\merge.py:617: UserWarning: merging between different levels can give an unintended result (2 levels on the left, 1 on the right)\n",
      "  warnings.warn(msg, UserWarning)\n"
     ]
    }
   ],
   "source": [
    "data1 = pd.merge(ex_rate_month,interest,on='Date')\n",
    "data1 = pd.merge(data1,leading_us,on='Date')\n",
    "data1 = pd.merge(data1,leading_korea,on='Date')\n",
    "data1 = pd.merge(data1,exports,on='Date')\n",
    "data1 = pd.merge(data1,imports,on='Date')\n",
    "data1 = pd.merge(data1,trade_balance,on='Date')"
   ]
  },
  {
   "cell_type": "code",
   "execution_count": 8,
   "metadata": {},
   "outputs": [
    {
     "data": {
      "text/plain": [
       "<matplotlib.axes._subplots.AxesSubplot at 0x17dc1a14c48>"
      ]
     },
     "execution_count": 8,
     "metadata": {},
     "output_type": "execute_result"
    },
    {
     "data": {
      "image/png": "[encoded data removed]",
      "text/plain": [
       "<Figure size 576x576 with 2 Axes>"
      ]
     },
     "metadata": {
      "needs_background": "light"
     },
     "output_type": "display_data"
    }
   ],
   "source": [
    "msno.matrix(df=data1, figsize =(8,8), color = (0.8, 0.5, 0.2))"
   ]
  },
  {
   "cell_type": "code",
   "execution_count": 9,
   "metadata": {},
   "outputs": [],
   "source": [
    "data1.columns=['Date','ex_rate','interest','leading_us','leading_korea','Exports','Imports','Trade Balance']"
   ]
  },
  {
   "cell_type": "code",
   "execution_count": 10,
   "metadata": {},
   "outputs": [
    {
     "data": {
      "text/html": [
       "<div>\n",
       "<style scoped>\n",
       "    .dataframe tbody tr th:only-of-type {\n",
       "        vertical-align: middle;\n",
       "    }\n",
       "\n",
       "    .dataframe tbody tr th {\n",
       "        vertical-align: top;\n",
       "    }\n",
       "\n",
       "    .dataframe thead th {\n",
       "        text-align: right;\n",
       "    }\n",
       "</style>\n",
       "<table border=\"1\" class=\"dataframe\">\n",
       "  <thead>\n",
       "    <tr style=\"text-align: right;\">\n",
       "      <th></th>\n",
       "      <th>Date</th>\n",
       "      <th>ex_rate</th>\n",
       "      <th>interest</th>\n",
       "      <th>leading_us</th>\n",
       "      <th>leading_korea</th>\n",
       "      <th>Exports</th>\n",
       "      <th>Imports</th>\n",
       "      <th>Trade Balance</th>\n",
       "    </tr>\n",
       "  </thead>\n",
       "  <tbody>\n",
       "    <tr>\n",
       "      <th>0</th>\n",
       "      <td>2005-01-01</td>\n",
       "      <td>1038.380952</td>\n",
       "      <td>3.25</td>\n",
       "      <td>100.45080</td>\n",
       "      <td>99.89162</td>\n",
       "      <td>2214.7</td>\n",
       "      <td>4124.0</td>\n",
       "      <td>-1909.2</td>\n",
       "    </tr>\n",
       "    <tr>\n",
       "      <th>1</th>\n",
       "      <td>2005-02-01</td>\n",
       "      <td>1023.217500</td>\n",
       "      <td>3.50</td>\n",
       "      <td>100.38210</td>\n",
       "      <td>99.94411</td>\n",
       "      <td>2242.5</td>\n",
       "      <td>3410.6</td>\n",
       "      <td>-1168.1</td>\n",
       "    </tr>\n",
       "    <tr>\n",
       "      <th>2</th>\n",
       "      <td>2005-03-01</td>\n",
       "      <td>1008.408696</td>\n",
       "      <td>3.75</td>\n",
       "      <td>100.30400</td>\n",
       "      <td>100.00670</td>\n",
       "      <td>2371.7</td>\n",
       "      <td>3695.9</td>\n",
       "      <td>-1324.2</td>\n",
       "    </tr>\n",
       "    <tr>\n",
       "      <th>3</th>\n",
       "      <td>2005-04-01</td>\n",
       "      <td>1009.923810</td>\n",
       "      <td>3.75</td>\n",
       "      <td>100.24810</td>\n",
       "      <td>100.06410</td>\n",
       "      <td>2125.6</td>\n",
       "      <td>3464.7</td>\n",
       "      <td>-1339.1</td>\n",
       "    </tr>\n",
       "    <tr>\n",
       "      <th>4</th>\n",
       "      <td>2005-05-01</td>\n",
       "      <td>1001.750000</td>\n",
       "      <td>4.00</td>\n",
       "      <td>100.23570</td>\n",
       "      <td>100.14340</td>\n",
       "      <td>2168.8</td>\n",
       "      <td>3627.2</td>\n",
       "      <td>-1458.4</td>\n",
       "    </tr>\n",
       "    <tr>\n",
       "      <th>...</th>\n",
       "      <td>...</td>\n",
       "      <td>...</td>\n",
       "      <td>...</td>\n",
       "      <td>...</td>\n",
       "      <td>...</td>\n",
       "      <td>...</td>\n",
       "      <td>...</td>\n",
       "      <td>...</td>\n",
       "    </tr>\n",
       "    <tr>\n",
       "      <th>175</th>\n",
       "      <td>2019-08-01</td>\n",
       "      <td>1210.757727</td>\n",
       "      <td>2.75</td>\n",
       "      <td>98.83972</td>\n",
       "      <td>98.91964</td>\n",
       "      <td>4656.4</td>\n",
       "      <td>6779.2</td>\n",
       "      <td>-2122.8</td>\n",
       "    </tr>\n",
       "    <tr>\n",
       "      <th>176</th>\n",
       "      <td>2019-09-01</td>\n",
       "      <td>1195.506190</td>\n",
       "      <td>2.50</td>\n",
       "      <td>98.84105</td>\n",
       "      <td>98.96030</td>\n",
       "      <td>4522.0</td>\n",
       "      <td>5619.8</td>\n",
       "      <td>-1097.8</td>\n",
       "    </tr>\n",
       "    <tr>\n",
       "      <th>177</th>\n",
       "      <td>2019-10-01</td>\n",
       "      <td>1183.557826</td>\n",
       "      <td>2.25</td>\n",
       "      <td>98.91140</td>\n",
       "      <td>99.09174</td>\n",
       "      <td>4676.3</td>\n",
       "      <td>6539.3</td>\n",
       "      <td>-1863.1</td>\n",
       "    </tr>\n",
       "    <tr>\n",
       "      <th>178</th>\n",
       "      <td>2019-11-01</td>\n",
       "      <td>1168.797143</td>\n",
       "      <td>2.25</td>\n",
       "      <td>99.04106</td>\n",
       "      <td>99.30226</td>\n",
       "      <td>4711.0</td>\n",
       "      <td>6143.7</td>\n",
       "      <td>-1432.8</td>\n",
       "    </tr>\n",
       "    <tr>\n",
       "      <th>179</th>\n",
       "      <td>2019-12-01</td>\n",
       "      <td>1173.060909</td>\n",
       "      <td>2.25</td>\n",
       "      <td>99.21168</td>\n",
       "      <td>99.56037</td>\n",
       "      <td>5366.9</td>\n",
       "      <td>6719.2</td>\n",
       "      <td>-1352.3</td>\n",
       "    </tr>\n",
       "  </tbody>\n",
       "</table>\n",
       "<p>180 rows × 8 columns</p>\n",
       "</div>"
      ],
      "text/plain": [
       "          Date      ex_rate  interest  leading_us  leading_korea  Exports  \\\n",
       "0   2005-01-01  1038.380952      3.25   100.45080       99.89162   2214.7   \n",
       "1   2005-02-01  1023.217500      3.50   100.38210       99.94411   2242.5   \n",
       "2   2005-03-01  1008.408696      3.75   100.30400      100.00670   2371.7   \n",
       "3   2005-04-01  1009.923810      3.75   100.24810      100.06410   2125.6   \n",
       "4   2005-05-01  1001.750000      4.00   100.23570      100.14340   2168.8   \n",
       "..         ...          ...       ...         ...            ...      ...   \n",
       "175 2019-08-01  1210.757727      2.75    98.83972       98.91964   4656.4   \n",
       "176 2019-09-01  1195.506190      2.50    98.84105       98.96030   4522.0   \n",
       "177 2019-10-01  1183.557826      2.25    98.91140       99.09174   4676.3   \n",
       "178 2019-11-01  1168.797143      2.25    99.04106       99.30226   4711.0   \n",
       "179 2019-12-01  1173.060909      2.25    99.21168       99.56037   5366.9   \n",
       "\n",
       "     Imports  Trade Balance  \n",
       "0     4124.0        -1909.2  \n",
       "1     3410.6        -1168.1  \n",
       "2     3695.9        -1324.2  \n",
       "3     3464.7        -1339.1  \n",
       "4     3627.2        -1458.4  \n",
       "..       ...            ...  \n",
       "175   6779.2        -2122.8  \n",
       "176   5619.8        -1097.8  \n",
       "177   6539.3        -1863.1  \n",
       "178   6143.7        -1432.8  \n",
       "179   6719.2        -1352.3  \n",
       "\n",
       "[180 rows x 8 columns]"
      ]
     },
     "execution_count": 10,
     "metadata": {},
     "output_type": "execute_result"
    }
   ],
   "source": [
    "data1"
   ]
  },
  {
   "cell_type": "markdown",
   "metadata": {},
   "source": [
    "# 2. EDA #"
   ]
  },
  {
   "cell_type": "markdown",
   "metadata": {},
   "source": [
    "### 2.1 Trade balance including Exports and Imports ###"
   ]
  },
  {
   "cell_type": "code",
   "execution_count": 11,
   "metadata": {},
   "outputs": [
    {
     "data": {
      "image/png": "[encoded data removed]",
      "text/plain": [
       "<Figure size 432x288 with 1 Axes>"
      ]
     },
     "metadata": {
      "needs_background": "light"
     },
     "output_type": "display_data"
    }
   ],
   "source": [
    "data1.plot(x='Date',y=['Trade Balance','Imports','Exports'])\n",
    "plt.title(\"Trade balance for South Korea\", fontsize=15)\n",
    "plt.xlabel('')\n",
    "plt.ylabel('Millions of U.S. dollars',position=(0.1,0.5))\n",
    "plt.savefig('2Trade balance.png')"
   ]
  },
  {
   "cell_type": "markdown",
   "metadata": {},
   "source": [
    "### 2.2  Exchange rates ###"
   ]
  },
  {
   "cell_type": "code",
   "execution_count": 12,
   "metadata": {},
   "outputs": [
    {
     "data": {
      "image/png": "[encoded data removed]",
      "text/plain": [
       "<Figure size 432x288 with 1 Axes>"
      ]
     },
     "metadata": {
      "needs_background": "light"
     },
     "output_type": "display_data"
    }
   ],
   "source": [
    "data1.plot(x='Date',y=['ex_rate'],legend=None)\n",
    "plt.title(\"Exchange rates\", fontsize=15)\n",
    "plt.xlabel('')\n",
    "plt.ylabel('USD / KRW')\n",
    "plt.savefig('3Exchange rate.png')"
   ]
  },
  {
   "cell_type": "markdown",
   "metadata": {},
   "source": [
    "### 2.3 U.S. interest rates ###"
   ]
  },
  {
   "cell_type": "code",
   "execution_count": 187,
   "metadata": {},
   "outputs": [
    {
     "data": {
      "image/png": "[encoded data removed]",
      "text/plain": [
       "<Figure size 432x288 with 1 Axes>"
      ]
     },
     "metadata": {},
     "output_type": "display_data"
    }
   ],
   "source": [
    "data1.plot(x='Date',y=['interest'],legend=None)\n",
    "plt.title(\"U.S. Interest rates\", fontsize=15)\n",
    "plt.xlabel('')\n",
    "plt.ylabel('(%)',rotation=0,position=(0.5,1))\n",
    "plt.savefig('3Interest rate.png')"
   ]
  },
  {
   "cell_type": "markdown",
   "metadata": {},
   "source": [
    "### 2.4 U.S. Leading indicator and South Korea Leading indicator ###"
   ]
  },
  {
   "cell_type": "code",
   "execution_count": 13,
   "metadata": {},
   "outputs": [
    {
     "data": {
      "image/png": "[encoded data removed]",
      "text/plain": [
       "<Figure size 432x288 with 1 Axes>"
      ]
     },
     "metadata": {
      "needs_background": "light"
     },
     "output_type": "display_data"
    }
   ],
   "source": [
    "data1.plot(x='Date',y=['leading_us','leading_korea'])\n",
    "plt.title(\"Leading indicator for two countries\", fontsize=15)\n",
    "plt.xlabel('')\n",
    "plt.ylabel('Default: 100',position=(0.5,0.5))\n",
    "plt.savefig('4Leading indicators.png')"
   ]
  },
  {
   "cell_type": "markdown",
   "metadata": {},
   "source": [
    "### 2.5 Decide 'Date' variable as index ###"
   ]
  },
  {
   "cell_type": "code",
   "execution_count": 14,
   "metadata": {},
   "outputs": [],
   "source": [
    "data1.set_index(data1['Date'], inplace=True)\n",
    "data1 = data1.drop('Date', 1)"
   ]
  },
  {
   "cell_type": "markdown",
   "metadata": {},
   "source": [
    "### 2.6 Remove Imports and Exports from data ###"
   ]
  },
  {
   "cell_type": "code",
   "execution_count": 15,
   "metadata": {},
   "outputs": [],
   "source": [
    "trade_balance=data1[['ex_rate','interest','leading_us','leading_korea','Trade Balance']]"
   ]
  },
  {
   "cell_type": "markdown",
   "metadata": {},
   "source": [
    "values = trade_balance.values\n",
    "# specify columns to plot\n",
    "groups = [0,1,2,3,4]\n",
    "i = 1\n",
    "# plot each column\n",
    "pyplot.figure()\n",
    "for group in groups:\n",
    "    pyplot.subplot(len(groups), 1, i)\n",
    "    pyplot.plot(values[:, group])\n",
    "    pyplot.title(trade_balance.columns[group], y=0.5, loc='right')\n",
    "    i += 1\n",
    "pyplot.show()"
   ]
  },
  {
   "cell_type": "markdown",
   "metadata": {},
   "source": [
    "# 3. Analytics #"
   ]
  },
  {
   "cell_type": "markdown",
   "metadata": {},
   "source": [
    "## 3.1 Granger Causality test ##"
   ]
  },
  {
   "cell_type": "code",
   "execution_count": 17,
   "metadata": {},
   "outputs": [],
   "source": [
    "def adf_check(tf):\n",
    "    result = adfuller(tf)\n",
    "    if result[1] <= 0.05:\n",
    "        print('Stationary {}'.format(result[1]))\n",
    "    else:\n",
    "        print('Non-stationary {}'.format(result[1]))"
   ]
  },
  {
   "cell_type": "markdown",
   "metadata": {},
   "source": [
    "### 3.1.1 Check stationary of variables ###"
   ]
  },
  {
   "cell_type": "code",
   "execution_count": 18,
   "metadata": {},
   "outputs": [
    {
     "name": "stdout",
     "output_type": "stream",
     "text": [
      "Stationary 0.049121618135553054\n"
     ]
    }
   ],
   "source": [
    "adf_check(trade_balance['ex_rate'])"
   ]
  },
  {
   "cell_type": "code",
   "execution_count": 19,
   "metadata": {},
   "outputs": [
    {
     "name": "stdout",
     "output_type": "stream",
     "text": [
      "Stationary 0.027338467651005012\n"
     ]
    }
   ],
   "source": [
    "adf_check(trade_balance['interest'])"
   ]
  },
  {
   "cell_type": "code",
   "execution_count": 20,
   "metadata": {},
   "outputs": [
    {
     "name": "stdout",
     "output_type": "stream",
     "text": [
      "Stationary 0.007294571220351389\n"
     ]
    }
   ],
   "source": [
    "adf_check(trade_balance['leading_us'])"
   ]
  },
  {
   "cell_type": "code",
   "execution_count": 21,
   "metadata": {},
   "outputs": [
    {
     "name": "stdout",
     "output_type": "stream",
     "text": [
      "Stationary 0.0038510851080876844\n"
     ]
    }
   ],
   "source": [
    "adf_check(trade_balance['leading_korea'])"
   ]
  },
  {
   "cell_type": "code",
   "execution_count": 22,
   "metadata": {},
   "outputs": [
    {
     "name": "stdout",
     "output_type": "stream",
     "text": [
      "Non-stationary 0.5987424802000696\n"
     ]
    }
   ],
   "source": [
    "adf_check(trade_balance['Trade Balance'])"
   ]
  },
  {
   "cell_type": "markdown",
   "metadata": {},
   "source": [
    "Because trade balance variables is not stationary, we have to used first differenced variable"
   ]
  },
  {
   "cell_type": "code",
   "execution_count": 23,
   "metadata": {},
   "outputs": [
    {
     "name": "stderr",
     "output_type": "stream",
     "text": [
      "C:\\ProgramData\\Anaconda3\\lib\\site-packages\\ipykernel_launcher.py:1: SettingWithCopyWarning: \n",
      "A value is trying to be set on a copy of a slice from a DataFrame.\n",
      "Try using .loc[row_indexer,col_indexer] = value instead\n",
      "\n",
      "See the caveats in the documentation: http://pandas.pydata.org/pandas-docs/stable/user_guide/indexing.html#returning-a-view-versus-a-copy\n",
      "  \"\"\"Entry point for launching an IPython kernel.\n"
     ]
    }
   ],
   "source": [
    "trade_balance['1st_diff'] = trade_balance['Trade Balance'] - trade_balance['Trade Balance'].shift(1)\n"
   ]
  },
  {
   "cell_type": "code",
   "execution_count": 24,
   "metadata": {},
   "outputs": [],
   "source": [
    "trade_balance_1=trade_balance[1:]"
   ]
  },
  {
   "cell_type": "code",
   "execution_count": 25,
   "metadata": {},
   "outputs": [
    {
     "name": "stdout",
     "output_type": "stream",
     "text": [
      "Stationary 3.600605635346006e-05\n"
     ]
    }
   ],
   "source": [
    "adf_check(trade_balance_1['1st_diff'])"
   ]
  },
  {
   "cell_type": "markdown",
   "metadata": {},
   "source": [
    "After first differencing, trade_balance also become stationary"
   ]
  },
  {
   "cell_type": "markdown",
   "metadata": {},
   "source": [
    "### 3.1.2 Granger Causality test ###"
   ]
  },
  {
   "cell_type": "code",
   "execution_count": 26,
   "metadata": {},
   "outputs": [],
   "source": [
    "maxlag=12\n",
    "test = 'ssr_chi2test'\n",
    "def grangers_causation_matrix(data, variables, test='ssr_chi2test', verbose=False):    \n",
    "    \n",
    "    df = pd.DataFrame(np.zeros((len(variables), len(variables))), columns=variables, index=variables)\n",
    "    for c in df.columns:\n",
    "        for r in df.index:\n",
    "            test_result = grangercausalitytests(data[[r, c]], maxlag=maxlag, verbose=False)\n",
    "            p_values = [round(test_result[i+1][0][test][1],4) for i in range(maxlag)]\n",
    "            if verbose: print(f'Y = {r}, X = {c}, P Values = {p_values}')\n",
    "            min_p_value = np.min(p_values)\n",
    "            df.loc[r, c] = min_p_value\n",
    "    df.columns = [var + '_x' for var in variables]\n",
    "    df.index = [var + '_y' for var in variables]\n",
    "    return df\n"
   ]
  },
  {
   "cell_type": "code",
   "execution_count": 27,
   "metadata": {},
   "outputs": [
    {
     "data": {
      "text/html": [
       "<div>\n",
       "<style scoped>\n",
       "    .dataframe tbody tr th:only-of-type {\n",
       "        vertical-align: middle;\n",
       "    }\n",
       "\n",
       "    .dataframe tbody tr th {\n",
       "        vertical-align: top;\n",
       "    }\n",
       "\n",
       "    .dataframe thead th {\n",
       "        text-align: right;\n",
       "    }\n",
       "</style>\n",
       "<table border=\"1\" class=\"dataframe\">\n",
       "  <thead>\n",
       "    <tr style=\"text-align: right;\">\n",
       "      <th></th>\n",
       "      <th>ex_rate_x</th>\n",
       "      <th>interest_x</th>\n",
       "      <th>leading_us_x</th>\n",
       "      <th>leading_korea_x</th>\n",
       "      <th>Trade Balance_x</th>\n",
       "      <th>1st_diff_x</th>\n",
       "    </tr>\n",
       "  </thead>\n",
       "  <tbody>\n",
       "    <tr>\n",
       "      <th>ex_rate_y</th>\n",
       "      <td>1.0000</td>\n",
       "      <td>0.0000</td>\n",
       "      <td>0.0000</td>\n",
       "      <td>0.0000</td>\n",
       "      <td>0.1543</td>\n",
       "      <td>0.0943</td>\n",
       "    </tr>\n",
       "    <tr>\n",
       "      <th>interest_y</th>\n",
       "      <td>0.0463</td>\n",
       "      <td>1.0000</td>\n",
       "      <td>0.0022</td>\n",
       "      <td>0.0004</td>\n",
       "      <td>0.1629</td>\n",
       "      <td>0.5770</td>\n",
       "    </tr>\n",
       "    <tr>\n",
       "      <th>leading_us_y</th>\n",
       "      <td>0.0064</td>\n",
       "      <td>0.0000</td>\n",
       "      <td>1.0000</td>\n",
       "      <td>0.0000</td>\n",
       "      <td>0.0044</td>\n",
       "      <td>0.3200</td>\n",
       "    </tr>\n",
       "    <tr>\n",
       "      <th>leading_korea_y</th>\n",
       "      <td>0.0000</td>\n",
       "      <td>0.0013</td>\n",
       "      <td>0.0000</td>\n",
       "      <td>1.0000</td>\n",
       "      <td>0.1453</td>\n",
       "      <td>0.5972</td>\n",
       "    </tr>\n",
       "    <tr>\n",
       "      <th>Trade Balance_y</th>\n",
       "      <td>0.2088</td>\n",
       "      <td>0.1091</td>\n",
       "      <td>0.0179</td>\n",
       "      <td>0.3853</td>\n",
       "      <td>1.0000</td>\n",
       "      <td>0.0000</td>\n",
       "    </tr>\n",
       "    <tr>\n",
       "      <th>1st_diff_y</th>\n",
       "      <td>0.1955</td>\n",
       "      <td>0.3239</td>\n",
       "      <td>0.0101</td>\n",
       "      <td>0.3277</td>\n",
       "      <td>0.0002</td>\n",
       "      <td>1.0000</td>\n",
       "    </tr>\n",
       "  </tbody>\n",
       "</table>\n",
       "</div>"
      ],
      "text/plain": [
       "                 ex_rate_x  interest_x  leading_us_x  leading_korea_x  \\\n",
       "ex_rate_y           1.0000      0.0000        0.0000           0.0000   \n",
       "interest_y          0.0463      1.0000        0.0022           0.0004   \n",
       "leading_us_y        0.0064      0.0000        1.0000           0.0000   \n",
       "leading_korea_y     0.0000      0.0013        0.0000           1.0000   \n",
       "Trade Balance_y     0.2088      0.1091        0.0179           0.3853   \n",
       "1st_diff_y          0.1955      0.3239        0.0101           0.3277   \n",
       "\n",
       "                 Trade Balance_x  1st_diff_x  \n",
       "ex_rate_y                 0.1543      0.0943  \n",
       "interest_y                0.1629      0.5770  \n",
       "leading_us_y              0.0044      0.3200  \n",
       "leading_korea_y           0.1453      0.5972  \n",
       "Trade Balance_y           1.0000      0.0000  \n",
       "1st_diff_y                0.0002      1.0000  "
      ]
     },
     "execution_count": 27,
     "metadata": {},
     "output_type": "execute_result"
    }
   ],
   "source": [
    "grangers_causation_matrix(trade_balance_1, variables = trade_balance_1.columns)     "
   ]
  },
  {
   "cell_type": "markdown",
   "metadata": {},
   "source": [
    "values = trade_balance.values\n",
    "# specify columns to plot\n",
    "groups = [ 2,  4]\n",
    "i = 1\n",
    "# plot each column\n",
    "pyplot.figure()\n",
    "for group in groups:\n",
    "    pyplot.subplot(len(groups), 1, i)\n",
    "    pyplot.plot(values[:, group])\n",
    "    pyplot.title(trade_balance.columns[group], y=0.1, loc='right')\n",
    "    i += 1\n",
    "pyplot.show()"
   ]
  },
  {
   "cell_type": "markdown",
   "metadata": {},
   "source": [
    "### 3.1.3 Plot meaningful variable based on Granger Causality test ###"
   ]
  },
  {
   "cell_type": "code",
   "execution_count": 29,
   "metadata": {},
   "outputs": [],
   "source": [
    "def min_max_normalize(lst):\n",
    "    normalized = []\n",
    "    \n",
    "    for value in lst:\n",
    "        normalized_num = (value - min(lst)) / (max(lst) - min(lst))\n",
    "        normalized.append(normalized_num)\n",
    "    \n",
    "    return normalized"
   ]
  },
  {
   "cell_type": "code",
   "execution_count": 30,
   "metadata": {},
   "outputs": [],
   "source": [
    "def z_score_normalize(lst):\n",
    "    normalized = []\n",
    "    for value in lst:\n",
    "        normalized_num = (value - np.mean(lst)) / np.std(lst)\n",
    "        normalized.append(normalized_num)\n",
    "    return normalized"
   ]
  },
  {
   "cell_type": "code",
   "execution_count": 31,
   "metadata": {},
   "outputs": [],
   "source": [
    "min_max_scatter = trade_balance\n",
    "z_score_scatter = trade_balance"
   ]
  },
  {
   "cell_type": "code",
   "execution_count": 32,
   "metadata": {},
   "outputs": [],
   "source": [
    "min_max_scatter['Normalized Trade Balance'] = min_max_normalize(min_max_scatter['Trade Balance'])\n",
    "min_max_scatter['Normalized leading_US'] = min_max_normalize(min_max_scatter['leading_us'])\n",
    "min_max_scatter = min_max_scatter[['Normalized leading_US','Normalized Trade Balance']]"
   ]
  },
  {
   "cell_type": "code",
   "execution_count": 33,
   "metadata": {},
   "outputs": [],
   "source": [
    "z_score_scatter['Normalized Trade Balance'] = z_score_normalize(z_score_scatter['Trade Balance'])\n",
    "z_score_scatter['Normalized leading_US'] = z_score_normalize(z_score_scatter['leading_us'])\n",
    "z_score_scatter = z_score_scatter[['Normalized leading_US','Normalized Trade Balance']]"
   ]
  },
  {
   "cell_type": "code",
   "execution_count": 34,
   "metadata": {},
   "outputs": [
    {
     "data": {
      "image/png": "[encoded data removed]",
      "text/plain": [
       "<Figure size 432x288 with 1 Axes>"
      ]
     },
     "metadata": {
      "needs_background": "light"
     },
     "output_type": "display_data"
    }
   ],
   "source": [
    "min_max_scatter.plot()\n",
    "plt.title(\"Min-max normalization\", fontsize=15)\n",
    "plt.xlabel('')\n",
    "plt.ylabel('')\n",
    "plt.savefig('5Min-max normalization.png')"
   ]
  },
  {
   "cell_type": "code",
   "execution_count": 35,
   "metadata": {},
   "outputs": [
    {
     "data": {
      "image/png": "[encoded data removed]",
      "text/plain": [
       "<Figure size 432x288 with 1 Axes>"
      ]
     },
     "metadata": {
      "needs_background": "light"
     },
     "output_type": "display_data"
    }
   ],
   "source": [
    "z_score_scatter.plot()\n",
    "plt.title(\"Z-score_normalization\", fontsize=15)\n",
    "plt.xlabel('')\n",
    "plt.ylabel('')\n",
    "plt.savefig('6Z-score_normalization.png')"
   ]
  },
  {
   "cell_type": "markdown",
   "metadata": {},
   "source": [
    "### 3.1.4 Final variable selection based on Granger Causality test ###"
   ]
  },
  {
   "cell_type": "code",
   "execution_count": 36,
   "metadata": {},
   "outputs": [],
   "source": [
    "trade_balance=data1[['leading_us','Trade Balance']]"
   ]
  },
  {
   "cell_type": "code",
   "execution_count": 37,
   "metadata": {},
   "outputs": [
    {
     "name": "stdout",
     "output_type": "stream",
     "text": [
      "<class 'pandas.core.frame.DataFrame'>\n",
      "DatetimeIndex: 180 entries, 2005-01-01 to 2019-12-01\n",
      "Data columns (total 2 columns):\n",
      "leading_us       180 non-null float64\n",
      "Trade Balance    180 non-null float64\n",
      "dtypes: float64(2)\n",
      "memory usage: 4.2 KB\n"
     ]
    }
   ],
   "source": [
    "trade_balance.info()"
   ]
  },
  {
   "cell_type": "markdown",
   "metadata": {},
   "source": [
    "## 3.2 LSTM model ##"
   ]
  },
  {
   "cell_type": "markdown",
   "metadata": {},
   "source": [
    "### 3.2.1 Prepare modeling ###"
   ]
  },
  {
   "cell_type": "code",
   "execution_count": 39,
   "metadata": {},
   "outputs": [],
   "source": [
    "def series_to_supervised(data, n_in=1, n_out=1, dropnan=True):\n",
    "    n_vars = 1 if type(data) is list else data.shape[1]\n",
    "    df = DataFrame(data)\n",
    "    cols, names = list(), list()\n",
    "    # input sequence (t-n, ... t-1)\n",
    "    for i in range(n_in, 0, -1):\n",
    "        cols.append(df.shift(i))\n",
    "        names += [('var%d(t-%d)' % (j+1, i)) for j in range(n_vars)]\n",
    "    # forecast sequence (t, t+1, ... t+n)\n",
    "    for i in range(0, n_out):\n",
    "        cols.append(df.shift(-i))\n",
    "        if i == 0:\n",
    "            names += [('var%d(t)' % (j+1)) for j in range(n_vars)]\n",
    "        else:\n",
    "            names += [('var%d(t+%d)' % (j+1, i)) for j in range(n_vars)]\n",
    "    # put it all together\n",
    "    agg = pd.concat(cols, axis=1)\n",
    "    agg.columns = names\n",
    "    # drop rows with NaN values\n",
    "    if dropnan:\n",
    "        agg.dropna(inplace=True)\n",
    "    return agg"
   ]
  },
  {
   "cell_type": "code",
   "execution_count": 40,
   "metadata": {},
   "outputs": [
    {
     "name": "stdout",
     "output_type": "stream",
     "text": [
      "   var1(t-1)  var2(t-1)   var2(t)\n",
      "1   0.800705   0.417273  0.641767\n",
      "2   0.791233   0.641767  0.594481\n",
      "3   0.780465   0.594481  0.589967\n",
      "4   0.772758   0.589967  0.553829\n",
      "5   0.771049   0.553829  0.577790\n"
     ]
    }
   ],
   "source": [
    "values = trade_balance.values\n",
    "\n",
    "scaler = MinMaxScaler(feature_range=(0, 1))\n",
    "scaled = scaler.fit_transform(values)\n",
    "reframed = series_to_supervised(scaled, 1, 1)\n",
    "reframed.drop(reframed.columns[[2]], axis=1, inplace=True)\n",
    "print(reframed.head())"
   ]
  },
  {
   "cell_type": "markdown",
   "metadata": {},
   "source": [
    "### 3.2.2 Prepare dataset ###"
   ]
  },
  {
   "cell_type": "code",
   "execution_count": 41,
   "metadata": {},
   "outputs": [
    {
     "name": "stdout",
     "output_type": "stream",
     "text": [
      "(156, 1, 2) (156,) (11, 1, 2) (11,) (12, 1, 2) (12,)\n"
     ]
    }
   ],
   "source": [
    "# split into train, valid, and test sets\n",
    "values = reframed.values\n",
    "n_train_hours = 12*13\n",
    "train = values[:n_train_hours, :]\n",
    "valid = values[n_train_hours:n_train_hours+11,:]\n",
    "test = values[n_train_hours+11:, :]\n",
    "# split into input and outputs\n",
    "train_X, train_y = train[:, :-1], train[:, -1]\n",
    "valid_X, valid_y = valid[:, :-1], valid[:, -1]\n",
    "test_X, test_y = test[:, :-1], test[:, -1]\n",
    "# reshape input to be 3D [samples, timesteps, features]\n",
    "train_X = train_X.reshape((train_X.shape[0], 1, train_X.shape[1]))\n",
    "valid_X = valid_X.reshape((valid_X.shape[0], 1, valid_X.shape[1]))\n",
    "test_X = test_X.reshape((test_X.shape[0], 1, test_X.shape[1]))\n",
    "print(train_X.shape, train_y.shape, valid_X.shape, valid_y.shape, test_X.shape, test_y.shape)"
   ]
  },
  {
   "cell_type": "markdown",
   "metadata": {},
   "source": [
    "### 3.2.3 Train the model and visualize it ###"
   ]
  },
  {
   "cell_type": "code",
   "execution_count": 42,
   "metadata": {},
   "outputs": [
    {
     "name": "stdout",
     "output_type": "stream",
     "text": [
      "Train on 156 samples, validate on 11 samples\n",
      "Epoch 1/40\n",
      " - 0s - loss: 0.5879 - val_loss: 0.5911\n",
      "Epoch 2/40\n",
      " - 0s - loss: 0.5665 - val_loss: 0.5691\n",
      "Epoch 3/40\n",
      " - 0s - loss: 0.5453 - val_loss: 0.5472\n",
      "Epoch 4/40\n",
      " - 0s - loss: 0.5243 - val_loss: 0.5253\n",
      "Epoch 5/40\n",
      " - 0s - loss: 0.5033 - val_loss: 0.5033\n",
      "Epoch 6/40\n",
      " - 0s - loss: 0.4822 - val_loss: 0.4812\n",
      "Epoch 7/40\n",
      " - 0s - loss: 0.4610 - val_loss: 0.4588\n",
      "Epoch 8/40\n",
      " - 0s - loss: 0.4397 - val_loss: 0.4361\n",
      "Epoch 9/40\n",
      " - 0s - loss: 0.4182 - val_loss: 0.4131\n",
      "Epoch 10/40\n",
      " - 0s - loss: 0.3968 - val_loss: 0.3896\n",
      "Epoch 11/40\n",
      " - 0s - loss: 0.3750 - val_loss: 0.3654\n",
      "Epoch 12/40\n",
      " - 0s - loss: 0.3527 - val_loss: 0.3406\n",
      "Epoch 13/40\n",
      " - 0s - loss: 0.3304 - val_loss: 0.3151\n",
      "Epoch 14/40\n",
      " - 0s - loss: 0.3079 - val_loss: 0.2888\n",
      "Epoch 15/40\n",
      " - 0s - loss: 0.2860 - val_loss: 0.2618\n",
      "Epoch 16/40\n",
      " - 0s - loss: 0.2651 - val_loss: 0.2348\n",
      "Epoch 17/40\n",
      " - 0s - loss: 0.2459 - val_loss: 0.2076\n",
      "Epoch 18/40\n",
      " - 0s - loss: 0.2281 - val_loss: 0.1805\n",
      "Epoch 19/40\n",
      " - 0s - loss: 0.2119 - val_loss: 0.1538\n",
      "Epoch 20/40\n",
      " - 0s - loss: 0.1968 - val_loss: 0.1323\n",
      "Epoch 21/40\n",
      " - 0s - loss: 0.1838 - val_loss: 0.1202\n",
      "Epoch 22/40\n",
      " - 0s - loss: 0.1726 - val_loss: 0.1143\n",
      "Epoch 23/40\n",
      " - 0s - loss: 0.1636 - val_loss: 0.1113\n",
      "Epoch 24/40\n",
      " - 0s - loss: 0.1567 - val_loss: 0.1126\n",
      "Epoch 25/40\n",
      " - 0s - loss: 0.1513 - val_loss: 0.1140\n",
      "Epoch 26/40\n",
      " - 0s - loss: 0.1476 - val_loss: 0.1151\n",
      "Epoch 27/40\n",
      " - 0s - loss: 0.1453 - val_loss: 0.1159\n",
      "Epoch 28/40\n",
      " - 0s - loss: 0.1438 - val_loss: 0.1165\n",
      "Epoch 29/40\n",
      " - 0s - loss: 0.1429 - val_loss: 0.1168\n",
      "Epoch 30/40\n",
      " - 0s - loss: 0.1423 - val_loss: 0.1169\n",
      "Epoch 31/40\n",
      " - 0s - loss: 0.1419 - val_loss: 0.1169\n",
      "Epoch 32/40\n",
      " - 0s - loss: 0.1417 - val_loss: 0.1168\n",
      "Epoch 33/40\n",
      " - 0s - loss: 0.1416 - val_loss: 0.1166\n",
      "Epoch 34/40\n",
      " - 0s - loss: 0.1417 - val_loss: 0.1164\n",
      "Epoch 35/40\n",
      " - 0s - loss: 0.1418 - val_loss: 0.1162\n",
      "Epoch 36/40\n",
      " - 0s - loss: 0.1419 - val_loss: 0.1160\n",
      "Epoch 37/40\n",
      " - 0s - loss: 0.1421 - val_loss: 0.1159\n",
      "Epoch 38/40\n",
      " - 0s - loss: 0.1422 - val_loss: 0.1157\n",
      "Epoch 39/40\n",
      " - 0s - loss: 0.1424 - val_loss: 0.1156\n",
      "Epoch 40/40\n",
      " - 0s - loss: 0.1425 - val_loss: 0.1154\n"
     ]
    },
    {
     "data": {
      "image/png": "[encoded data removed]",
      "text/plain": [
       "<Figure size 432x288 with 1 Axes>"
      ]
     },
     "metadata": {
      "needs_background": "light"
     },
     "output_type": "display_data"
    },
    {
     "data": {
      "text/plain": [
       "<Figure size 432x288 with 0 Axes>"
      ]
     },
     "metadata": {},
     "output_type": "display_data"
    }
   ],
   "source": [
    "model = Sequential()\n",
    "model.add(LSTM(50, input_shape=(train_X.shape[1], train_X.shape[2])))\n",
    "model.add(Dense(1))\n",
    "model.compile(loss='mae', optimizer='adam')\n",
    "\n",
    "history = model.fit(train_X, train_y, epochs=40, batch_size=72, validation_data=(valid_X, valid_y), verbose=2, shuffle=False)\n",
    "\n",
    "pyplot.plot(history.history['loss'], label='train')\n",
    "pyplot.plot(history.history['val_loss'], label='valid')\n",
    "pyplot.legend()\n",
    "pyplot.show()\n",
    "plt.savefig('7LSTM learning.png')"
   ]
  },
  {
   "cell_type": "markdown",
   "metadata": {},
   "source": [
    "### 3.2.4 Fit the validation data to the model and calculate RMSE ###"
   ]
  },
  {
   "cell_type": "code",
   "execution_count": 43,
   "metadata": {},
   "outputs": [
    {
     "data": {
      "image/png": "[encoded data removed]",
      "text/plain": [
       "<Figure size 432x432 with 1 Axes>"
      ]
     },
     "metadata": {
      "needs_background": "light"
     },
     "output_type": "display_data"
    }
   ],
   "source": [
    "balance_min = min(trade_balance['Trade Balance'])\n",
    "balance_max = max(trade_balance['Trade Balance'])\n",
    "balance_min_max = max(trade_balance['Trade Balance'])-min(trade_balance['Trade Balance'])\n",
    "# make a prediction\n",
    "y_val = model.predict(valid_X)*balance_min_max+balance_min\n",
    "\n",
    "plt.figure(figsize=[6,6])\n",
    "plt.plot(y_val.ravel(),'r-',label='LSTM')\n",
    "plt.plot(valid_y.ravel()*balance_min_max+balance_min,'b-',label='Trade Balance')\n",
    "#plt.plot((yhat-test_y).ravel(),'g-',label='diff*10')\n",
    "plt.legend()\n",
    "plt.title(\"LSTM Prediction\", fontsize=15)\n",
    "plt.xlabel('')\n",
    "plt.ylabel('Millions of U.S. dollars')\n",
    "plt.savefig('8LSTM prediction.png')"
   ]
  },
  {
   "cell_type": "code",
   "execution_count": 44,
   "metadata": {},
   "outputs": [
    {
     "data": {
      "text/plain": [
       "477.41737772955327"
      ]
     },
     "execution_count": 44,
     "metadata": {},
     "output_type": "execute_result"
    }
   ],
   "source": [
    "rmse = math.sqrt(mean_squared_error(y_val, valid_y*balance_min_max+balance_min))\n",
    "rmse"
   ]
  },
  {
   "cell_type": "markdown",
   "metadata": {},
   "source": [
    "### 3.2.5 Forecast after FTA revision ###"
   ]
  },
  {
   "cell_type": "code",
   "execution_count": 45,
   "metadata": {},
   "outputs": [
    {
     "data": {
      "image/png": "[encoded data removed]",
      "text/plain": [
       "<Figure size 720x504 with 1 Axes>"
      ]
     },
     "metadata": {
      "needs_background": "light"
     },
     "output_type": "display_data"
    }
   ],
   "source": [
    "\n",
    "# make a prediction\n",
    "pred_y = model.predict(test_X)*balance_min_max+balance_min\n",
    "\n",
    "plt.figure(figsize=[10,7])\n",
    "plt.xlim(0,11)\n",
    "plt.plot(pred_y.ravel(),'r-',label='LSTM')\n",
    "plt.plot(test_y.ravel()*balance_min_max+balance_min,'b-',label='Trade Balance')\n",
    "#plt.plot((yhat-test_y).ravel(),'g-',label='diff*10')\n",
    "plt.legend()\n",
    "plt.title(\"LSTM Prediction\", fontsize=15)\n",
    "plt.xlabel('')\n",
    "plt.ylabel('Millions of U.S. dollars')\n",
    "plt.savefig('9LSTM prediction with test.png')"
   ]
  },
  {
   "cell_type": "markdown",
   "metadata": {},
   "source": [
    "# 3.3 ARIMA model #"
   ]
  },
  {
   "cell_type": "markdown",
   "metadata": {},
   "source": [
    "### 3.3.1 Check data ###"
   ]
  },
  {
   "cell_type": "code",
   "execution_count": 53,
   "metadata": {},
   "outputs": [],
   "source": [
    "data2=trade_balance[['Trade Balance']] "
   ]
  },
  {
   "cell_type": "code",
   "execution_count": 54,
   "metadata": {},
   "outputs": [
    {
     "name": "stdout",
     "output_type": "stream",
     "text": [
      "<class 'pandas.core.frame.DataFrame'>\n",
      "DatetimeIndex: 180 entries, 2005-01-01 to 2019-12-01\n",
      "Data columns (total 1 columns):\n",
      "Trade Balance    180 non-null float64\n",
      "dtypes: float64(1)\n",
      "memory usage: 2.8 KB\n"
     ]
    }
   ],
   "source": [
    "data2.info()"
   ]
  },
  {
   "cell_type": "markdown",
   "metadata": {},
   "source": [
    "### 3.3.2 Prepare all combination of parameters ###"
   ]
  },
  {
   "cell_type": "code",
   "execution_count": 55,
   "metadata": {},
   "outputs": [],
   "source": [
    "# Define parameters between 0 and 2\n",
    "p = d = q = range(0, 2)\n",
    "\n",
    "# Generate all combinations \n",
    "pdq = list(itertools.product(p, d, q))\n",
    "\n",
    "# Generate all combinations of seasonal p, q and q triplets\n",
    "seasonal_pdq = [(x[0], x[1], x[2], 12) for x in list(itertools.product(p, d, q))]\n"
   ]
  },
  {
   "cell_type": "markdown",
   "metadata": {},
   "source": [
    "### 3.3.3. Prepare dataset ###"
   ]
  },
  {
   "cell_type": "code",
   "execution_count": 62,
   "metadata": {},
   "outputs": [],
   "source": [
    "data2_1= data2[['Trade Balance']]"
   ]
  },
  {
   "cell_type": "code",
   "execution_count": 63,
   "metadata": {},
   "outputs": [],
   "source": [
    "train = data2_1[0:156]\n",
    "valid = data2_1[156:168]\n",
    "test = data2_1[168:180]\n"
   ]
  },
  {
   "cell_type": "markdown",
   "metadata": {},
   "source": [
    "### 3.3.4 Calculate all combination of parameters ###"
   ]
  },
  {
   "cell_type": "code",
   "execution_count": 64,
   "metadata": {},
   "outputs": [
    {
     "name": "stdout",
     "output_type": "stream",
     "text": [
      "ARIMA(0, 0, 0)x(0, 0, 0, 12)12 - AIC:2732.9614663459042\n",
      "ARIMA(0, 0, 0)x(0, 0, 1, 12)12 - AIC:2410.172170757616\n",
      "ARIMA(0, 0, 0)x(0, 1, 0, 12)12 - AIC:2219.4779747587163\n",
      "ARIMA(0, 0, 0)x(0, 1, 1, 12)12 - AIC:2027.5800552738347\n",
      "ARIMA(0, 0, 0)x(1, 0, 0, 12)12 - AIC:2235.747441262174\n",
      "ARIMA(0, 0, 0)x(1, 0, 1, 12)12 - AIC:2205.747900317837\n",
      "ARIMA(0, 0, 0)x(1, 1, 0, 12)12 - AIC:2039.2734814359972\n",
      "ARIMA(0, 0, 0)x(1, 1, 1, 12)12 - AIC:2026.783146533005\n",
      "ARIMA(0, 0, 1)x(0, 0, 0, 12)12 - AIC:2595.447956418653\n",
      "ARIMA(0, 0, 1)x(0, 0, 1, 12)12 - AIC:2312.563433770766\n",
      "ARIMA(0, 0, 1)x(0, 1, 0, 12)12 - AIC:2175.136379499033\n",
      "ARIMA(0, 0, 1)x(0, 1, 1, 12)12 - AIC:1976.9071612283278\n",
      "ARIMA(0, 0, 1)x(1, 0, 0, 12)12 - AIC:2204.668008945636\n",
      "ARIMA(0, 0, 1)x(1, 0, 1, 12)12 - AIC:2151.9961238354863\n",
      "ARIMA(0, 0, 1)x(1, 1, 0, 12)12 - AIC:2002.3694035947335\n",
      "ARIMA(0, 0, 1)x(1, 1, 1, 12)12 - AIC:1975.9329935678052\n",
      "ARIMA(0, 1, 0)x(0, 0, 0, 12)12 - AIC:2375.7311858264434\n",
      "ARIMA(0, 1, 0)x(0, 0, 1, 12)12 - AIC:2174.494793700848\n",
      "ARIMA(0, 1, 0)x(0, 1, 0, 12)12 - AIC:2185.8018978810005\n",
      "ARIMA(0, 1, 0)x(0, 1, 1, 12)12 - AIC:1959.2223439290196\n",
      "ARIMA(0, 1, 0)x(1, 0, 0, 12)12 - AIC:2169.0417706931867\n",
      "ARIMA(0, 1, 0)x(1, 0, 1, 12)12 - AIC:2142.2264926559187\n",
      "ARIMA(0, 1, 0)x(1, 1, 0, 12)12 - AIC:1981.4757885023419\n",
      "ARIMA(0, 1, 0)x(1, 1, 1, 12)12 - AIC:1960.7359258011888\n",
      "ARIMA(0, 1, 1)x(0, 0, 0, 12)12 - AIC:2292.547942358944\n",
      "ARIMA(0, 1, 1)x(0, 0, 1, 12)12 - AIC:2107.3061613692726\n",
      "ARIMA(0, 1, 1)x(0, 1, 0, 12)12 - AIC:2136.0747901349705\n",
      "ARIMA(0, 1, 1)x(0, 1, 1, 12)12 - AIC:1911.085354402573\n",
      "ARIMA(0, 1, 1)x(1, 0, 0, 12)12 - AIC:2124.6909507765968\n",
      "ARIMA(0, 1, 1)x(1, 0, 1, 12)12 - AIC:2086.8246702921933\n",
      "ARIMA(0, 1, 1)x(1, 1, 0, 12)12 - AIC:1950.7049330998234\n",
      "ARIMA(0, 1, 1)x(1, 1, 1, 12)12 - AIC:1912.7429612851852\n",
      "ARIMA(1, 0, 0)x(0, 0, 0, 12)12 - AIC:2389.436257659344\n",
      "ARIMA(1, 0, 0)x(0, 0, 1, 12)12 - AIC:2185.5136926055757\n",
      "ARIMA(1, 0, 0)x(0, 1, 0, 12)12 - AIC:2167.6180722534687\n",
      "ARIMA(1, 0, 0)x(0, 1, 1, 12)12 - AIC:1955.6765997753064\n",
      "ARIMA(1, 0, 0)x(1, 0, 0, 12)12 - AIC:2158.994712788144\n",
      "ARIMA(1, 0, 0)x(1, 0, 1, 12)12 - AIC:2135.438817921232\n",
      "ARIMA(1, 0, 0)x(1, 1, 0, 12)12 - AIC:1957.9164166784276\n",
      "ARIMA(1, 0, 0)x(1, 1, 1, 12)12 - AIC:1957.6763750115651\n",
      "ARIMA(1, 0, 1)x(0, 0, 0, 12)12 - AIC:2308.931859620913\n",
      "ARIMA(1, 0, 1)x(0, 0, 1, 12)12 - AIC:2124.7163583212505\n",
      "ARIMA(1, 0, 1)x(0, 1, 0, 12)12 - AIC:2142.7458467767283\n",
      "ARIMA(1, 0, 1)x(0, 1, 1, 12)12 - AIC:1924.4591544364066\n",
      "ARIMA(1, 0, 1)x(1, 0, 0, 12)12 - AIC:2126.1752862883113\n",
      "ARIMA(1, 0, 1)x(1, 0, 1, 12)12 - AIC:2101.5584190387754\n",
      "ARIMA(1, 0, 1)x(1, 1, 0, 12)12 - AIC:1945.9176507714285\n",
      "ARIMA(1, 0, 1)x(1, 1, 1, 12)12 - AIC:1926.2773465755895\n",
      "ARIMA(1, 1, 0)x(0, 0, 0, 12)12 - AIC:2321.018223545333\n",
      "ARIMA(1, 1, 0)x(0, 0, 1, 12)12 - AIC:2129.300897498613\n",
      "ARIMA(1, 1, 0)x(0, 1, 0, 12)12 - AIC:2154.8606860758555\n",
      "ARIMA(1, 1, 0)x(0, 1, 1, 12)12 - AIC:1931.717670256948\n",
      "ARIMA(1, 1, 0)x(1, 0, 0, 12)12 - AIC:2115.6846994106386\n",
      "ARIMA(1, 1, 0)x(1, 0, 1, 12)12 - AIC:2108.0094331319183\n",
      "ARIMA(1, 1, 0)x(1, 1, 0, 12)12 - AIC:1943.1543740162151\n",
      "ARIMA(1, 1, 0)x(1, 1, 1, 12)12 - AIC:1932.8307543799708\n",
      "ARIMA(1, 1, 1)x(0, 0, 0, 12)12 - AIC:2293.079521399104\n",
      "ARIMA(1, 1, 1)x(0, 0, 1, 12)12 - AIC:2106.861579802032\n",
      "ARIMA(1, 1, 1)x(0, 1, 0, 12)12 - AIC:2136.966384800125\n",
      "ARIMA(1, 1, 1)x(0, 1, 1, 12)12 - AIC:1912.9345954862733\n",
      "ARIMA(1, 1, 1)x(1, 0, 0, 12)12 - AIC:2110.630301435406\n",
      "ARIMA(1, 1, 1)x(1, 0, 1, 12)12 - AIC:2088.1726222347734\n",
      "ARIMA(1, 1, 1)x(1, 1, 0, 12)12 - AIC:1938.6308784853536\n",
      "ARIMA(1, 1, 1)x(1, 1, 1, 12)12 - AIC:1914.494501746609\n"
     ]
    }
   ],
   "source": [
    "warnings.filterwarnings(\"ignore\") \n",
    "\n",
    "for param in pdq:\n",
    "    for param_seasonal in seasonal_pdq:\n",
    "        try:\n",
    "            mod = sm.tsa.statespace.SARIMAX(train,\n",
    "                                            order=param,\n",
    "                                            seasonal_order=param_seasonal,\n",
    "                                            enforce_stationarity=False,\n",
    "                                            enforce_invertibility=False)\n",
    "\n",
    "            results = mod.fit()\n",
    "\n",
    "            print('ARIMA{}x{}12 - AIC:{}'.format(param, param_seasonal, results.aic))\n",
    "        except:\n",
    "            continue"
   ]
  },
  {
   "cell_type": "markdown",
   "metadata": {},
   "source": [
    "### 3.3.5 Build ARIMA model based on best AIC ###"
   ]
  },
  {
   "cell_type": "code",
   "execution_count": 65,
   "metadata": {},
   "outputs": [],
   "source": [
    "model = sm.tsa.statespace.SARIMAX(train['Trade Balance'],order=(0,1,1),seasonal_order=(0,1,1,12))"
   ]
  },
  {
   "cell_type": "markdown",
   "metadata": {},
   "source": [
    "### 3.3.6 Fit the train data ###"
   ]
  },
  {
   "cell_type": "code",
   "execution_count": 66,
   "metadata": {},
   "outputs": [],
   "source": [
    "result = model.fit()"
   ]
  },
  {
   "cell_type": "code",
   "execution_count": 67,
   "metadata": {},
   "outputs": [
    {
     "data": {
      "text/html": [
       "<table class=\"simpletable\">\n",
       "<caption>Statespace Model Results</caption>\n",
       "<tr>\n",
       "  <th>Dep. Variable:</th>            <td>Trade Balance</td>         <th>  No. Observations:  </th>    <td>156</td>   \n",
       "</tr>\n",
       "<tr>\n",
       "  <th>Model:</th>           <td>SARIMAX(0, 1, 1)x(0, 1, 1, 12)</td> <th>  Log Likelihood     </th> <td>-1055.074</td>\n",
       "</tr>\n",
       "<tr>\n",
       "  <th>Date:</th>                   <td>Sat, 09 May 2020</td>        <th>  AIC                </th> <td>2116.147</td> \n",
       "</tr>\n",
       "<tr>\n",
       "  <th>Time:</th>                       <td>11:55:41</td>            <th>  BIC                </th> <td>2125.036</td> \n",
       "</tr>\n",
       "<tr>\n",
       "  <th>Sample:</th>                    <td>01-01-2005</td>           <th>  HQIC               </th> <td>2119.759</td> \n",
       "</tr>\n",
       "<tr>\n",
       "  <th></th>                          <td>- 12-01-2017</td>          <th>                     </th>     <td> </td>    \n",
       "</tr>\n",
       "<tr>\n",
       "  <th>Covariance Type:</th>               <td>opg</td>              <th>                     </th>     <td> </td>    \n",
       "</tr>\n",
       "</table>\n",
       "<table class=\"simpletable\">\n",
       "<tr>\n",
       "      <td></td>        <th>coef</th>     <th>std err</th>      <th>z</th>      <th>P>|z|</th>  <th>[0.025</th>    <th>0.975]</th>  \n",
       "</tr>\n",
       "<tr>\n",
       "  <th>ma.L1</th>    <td>   -0.5648</td> <td>    0.066</td> <td>   -8.555</td> <td> 0.000</td> <td>   -0.694</td> <td>   -0.435</td>\n",
       "</tr>\n",
       "<tr>\n",
       "  <th>ma.S.L12</th> <td>   -0.7877</td> <td>    0.071</td> <td>  -11.049</td> <td> 0.000</td> <td>   -0.927</td> <td>   -0.648</td>\n",
       "</tr>\n",
       "<tr>\n",
       "  <th>sigma2</th>   <td> 1.408e+05</td> <td>  1.8e+04</td> <td>    7.841</td> <td> 0.000</td> <td> 1.06e+05</td> <td> 1.76e+05</td>\n",
       "</tr>\n",
       "</table>\n",
       "<table class=\"simpletable\">\n",
       "<tr>\n",
       "  <th>Ljung-Box (Q):</th>          <td>38.39</td> <th>  Jarque-Bera (JB):  </th> <td>1.31</td>\n",
       "</tr>\n",
       "<tr>\n",
       "  <th>Prob(Q):</th>                <td>0.54</td>  <th>  Prob(JB):          </th> <td>0.52</td>\n",
       "</tr>\n",
       "<tr>\n",
       "  <th>Heteroskedasticity (H):</th> <td>1.73</td>  <th>  Skew:              </th> <td>0.22</td>\n",
       "</tr>\n",
       "<tr>\n",
       "  <th>Prob(H) (two-sided):</th>    <td>0.06</td>  <th>  Kurtosis:          </th> <td>2.84</td>\n",
       "</tr>\n",
       "</table><br/><br/>Warnings:<br/>[1] Covariance matrix calculated using the outer product of gradients (complex-step)."
      ],
      "text/plain": [
       "<class 'statsmodels.iolib.summary.Summary'>\n",
       "\"\"\"\n",
       "                                 Statespace Model Results                                 \n",
       "==========================================================================================\n",
       "Dep. Variable:                      Trade Balance   No. Observations:                  156\n",
       "Model:             SARIMAX(0, 1, 1)x(0, 1, 1, 12)   Log Likelihood               -1055.074\n",
       "Date:                            Sat, 09 May 2020   AIC                           2116.147\n",
       "Time:                                    11:55:41   BIC                           2125.036\n",
       "Sample:                                01-01-2005   HQIC                          2119.759\n",
       "                                     - 12-01-2017                                         \n",
       "Covariance Type:                              opg                                         \n",
       "==============================================================================\n",
       "                 coef    std err          z      P>|z|      [0.025      0.975]\n",
       "------------------------------------------------------------------------------\n",
       "ma.L1         -0.5648      0.066     -8.555      0.000      -0.694      -0.435\n",
       "ma.S.L12      -0.7877      0.071    -11.049      0.000      -0.927      -0.648\n",
       "sigma2      1.408e+05    1.8e+04      7.841      0.000    1.06e+05    1.76e+05\n",
       "===================================================================================\n",
       "Ljung-Box (Q):                       38.39   Jarque-Bera (JB):                 1.31\n",
       "Prob(Q):                              0.54   Prob(JB):                         0.52\n",
       "Heteroskedasticity (H):               1.73   Skew:                             0.22\n",
       "Prob(H) (two-sided):                  0.06   Kurtosis:                         2.84\n",
       "===================================================================================\n",
       "\n",
       "Warnings:\n",
       "[1] Covariance matrix calculated using the outer product of gradients (complex-step).\n",
       "\"\"\""
      ]
     },
     "execution_count": 67,
     "metadata": {},
     "output_type": "execute_result"
    }
   ],
   "source": [
    "result.summary()"
   ]
  },
  {
   "cell_type": "markdown",
   "metadata": {},
   "source": [
    "### 3.3.7 Check remain features for residuals ###"
   ]
  },
  {
   "cell_type": "code",
   "execution_count": 68,
   "metadata": {},
   "outputs": [
    {
     "data": {
      "image/png": "[encoded data removed]",
      "text/plain": [
       "<Figure size 432x288 with 1 Axes>"
      ]
     },
     "metadata": {},
     "output_type": "display_data"
    }
   ],
   "source": [
    "result.resid.plot()\n",
    "plt.title(\"Residuals\", fontsize=15)\n",
    "plt.xlabel('')\n",
    "plt.ylabel('millions of U.S. dollars')\n",
    "plt.savefig('11ARIMA_train_resid.png')"
   ]
  },
  {
   "cell_type": "code",
   "execution_count": 69,
   "metadata": {},
   "outputs": [
    {
     "data": {
      "image/png": "[encoded data removed]",
      "text/plain": [
       "<Figure size 432x288 with 1 Axes>"
      ]
     },
     "metadata": {},
     "output_type": "display_data"
    }
   ],
   "source": [
    "result.resid.plot(kind='kde')\n",
    "plt.title(\"Residual Distribution\", fontsize=15)\n",
    "plt.xlabel('Millions of U.S. dollars')\n",
    "plt.ylabel('Density')\n",
    "plt.savefig('11ARIMA_train_resid distribution.png')"
   ]
  },
  {
   "cell_type": "markdown",
   "metadata": {},
   "source": [
    "### 3.3.8 Fit validation dataset and calculate RMSE ###"
   ]
  },
  {
   "cell_type": "code",
   "execution_count": 70,
   "metadata": {},
   "outputs": [],
   "source": [
    "data2['valid'] = result.predict(start=156,end=168, dynamic=True)\n"
   ]
  },
  {
   "cell_type": "code",
   "execution_count": 71,
   "metadata": {},
   "outputs": [
    {
     "data": {
      "text/html": [
       "<div>\n",
       "<style scoped>\n",
       "    .dataframe tbody tr th:only-of-type {\n",
       "        vertical-align: middle;\n",
       "    }\n",
       "\n",
       "    .dataframe tbody tr th {\n",
       "        vertical-align: top;\n",
       "    }\n",
       "\n",
       "    .dataframe thead th {\n",
       "        text-align: right;\n",
       "    }\n",
       "</style>\n",
       "<table border=\"1\" class=\"dataframe\">\n",
       "  <thead>\n",
       "    <tr style=\"text-align: right;\">\n",
       "      <th></th>\n",
       "      <th>Trade Balance</th>\n",
       "      <th>valid</th>\n",
       "    </tr>\n",
       "    <tr>\n",
       "      <th>Date</th>\n",
       "      <th></th>\n",
       "      <th></th>\n",
       "    </tr>\n",
       "  </thead>\n",
       "  <tbody>\n",
       "    <tr>\n",
       "      <th>2018-01-01</th>\n",
       "      <td>-1967.6</td>\n",
       "      <td>-2476.781169</td>\n",
       "    </tr>\n",
       "    <tr>\n",
       "      <th>2018-02-01</th>\n",
       "      <td>-610.9</td>\n",
       "      <td>-1671.028128</td>\n",
       "    </tr>\n",
       "    <tr>\n",
       "      <th>2018-03-01</th>\n",
       "      <td>-1096.0</td>\n",
       "      <td>-1977.803144</td>\n",
       "    </tr>\n",
       "    <tr>\n",
       "      <th>2018-04-01</th>\n",
       "      <td>-1696.5</td>\n",
       "      <td>-2370.943205</td>\n",
       "    </tr>\n",
       "    <tr>\n",
       "      <th>2018-05-01</th>\n",
       "      <td>-1705.9</td>\n",
       "      <td>-2288.157450</td>\n",
       "    </tr>\n",
       "    <tr>\n",
       "      <th>2018-06-01</th>\n",
       "      <td>-1245.7</td>\n",
       "      <td>-2147.229588</td>\n",
       "    </tr>\n",
       "    <tr>\n",
       "      <th>2018-07-01</th>\n",
       "      <td>-1549.3</td>\n",
       "      <td>-2327.901050</td>\n",
       "    </tr>\n",
       "    <tr>\n",
       "      <th>2018-08-01</th>\n",
       "      <td>-1805.2</td>\n",
       "      <td>-2176.123783</td>\n",
       "    </tr>\n",
       "    <tr>\n",
       "      <th>2018-09-01</th>\n",
       "      <td>-1414.5</td>\n",
       "      <td>-1992.132217</td>\n",
       "    </tr>\n",
       "    <tr>\n",
       "      <th>2018-10-01</th>\n",
       "      <td>-1915.7</td>\n",
       "      <td>-2109.234883</td>\n",
       "    </tr>\n",
       "    <tr>\n",
       "      <th>2018-11-01</th>\n",
       "      <td>-1957.7</td>\n",
       "      <td>-2341.615800</td>\n",
       "    </tr>\n",
       "    <tr>\n",
       "      <th>2018-12-01</th>\n",
       "      <td>-792.4</td>\n",
       "      <td>-1651.521669</td>\n",
       "    </tr>\n",
       "  </tbody>\n",
       "</table>\n",
       "</div>"
      ],
      "text/plain": [
       "            Trade Balance        valid\n",
       "Date                                  \n",
       "2018-01-01        -1967.6 -2476.781169\n",
       "2018-02-01         -610.9 -1671.028128\n",
       "2018-03-01        -1096.0 -1977.803144\n",
       "2018-04-01        -1696.5 -2370.943205\n",
       "2018-05-01        -1705.9 -2288.157450\n",
       "2018-06-01        -1245.7 -2147.229588\n",
       "2018-07-01        -1549.3 -2327.901050\n",
       "2018-08-01        -1805.2 -2176.123783\n",
       "2018-09-01        -1414.5 -1992.132217\n",
       "2018-10-01        -1915.7 -2109.234883\n",
       "2018-11-01        -1957.7 -2341.615800\n",
       "2018-12-01         -792.4 -1651.521669"
      ]
     },
     "execution_count": 71,
     "metadata": {},
     "output_type": "execute_result"
    }
   ],
   "source": [
    "data2_valid=data2[['Trade Balance','valid']]\n",
    "data2_valid=data2_valid[156:168]\n",
    "data2_valid"
   ]
  },
  {
   "cell_type": "code",
   "execution_count": 72,
   "metadata": {},
   "outputs": [
    {
     "data": {
      "text/plain": [
       "693.2872798551784"
      ]
     },
     "execution_count": 72,
     "metadata": {},
     "output_type": "execute_result"
    }
   ],
   "source": [
    "rmse = math.sqrt(mean_squared_error(data2_valid['Trade Balance'], data2_valid['valid']))\n",
    "rmse"
   ]
  },
  {
   "cell_type": "markdown",
   "metadata": {},
   "source": [
    "### 3.3.9 Train all previous data while maintaining parameters ###"
   ]
  },
  {
   "cell_type": "code",
   "execution_count": 73,
   "metadata": {},
   "outputs": [],
   "source": [
    "data2_2= data2[['Trade Balance']]\n",
    "train_valid = data2_2[0:168]\n",
    "test = data2_2[168:180]"
   ]
  },
  {
   "cell_type": "code",
   "execution_count": 74,
   "metadata": {},
   "outputs": [],
   "source": [
    "model = sm.tsa.statespace.SARIMAX(train_valid['Trade Balance'],order=(0,1,1),seasonal_order=(0,1,1,12))"
   ]
  },
  {
   "cell_type": "code",
   "execution_count": 75,
   "metadata": {},
   "outputs": [],
   "source": [
    "result = model.fit()"
   ]
  },
  {
   "cell_type": "code",
   "execution_count": 76,
   "metadata": {},
   "outputs": [
    {
     "data": {
      "text/html": [
       "<table class=\"simpletable\">\n",
       "<caption>Statespace Model Results</caption>\n",
       "<tr>\n",
       "  <th>Dep. Variable:</th>            <td>Trade Balance</td>         <th>  No. Observations:  </th>    <td>168</td>   \n",
       "</tr>\n",
       "<tr>\n",
       "  <th>Model:</th>           <td>SARIMAX(0, 1, 1)x(0, 1, 1, 12)</td> <th>  Log Likelihood     </th> <td>-1143.056</td>\n",
       "</tr>\n",
       "<tr>\n",
       "  <th>Date:</th>                   <td>Sat, 09 May 2020</td>        <th>  AIC                </th> <td>2292.111</td> \n",
       "</tr>\n",
       "<tr>\n",
       "  <th>Time:</th>                       <td>11:57:31</td>            <th>  BIC                </th> <td>2301.242</td> \n",
       "</tr>\n",
       "<tr>\n",
       "  <th>Sample:</th>                    <td>01-01-2005</td>           <th>  HQIC               </th> <td>2295.820</td> \n",
       "</tr>\n",
       "<tr>\n",
       "  <th></th>                          <td>- 12-01-2018</td>          <th>                     </th>     <td> </td>    \n",
       "</tr>\n",
       "<tr>\n",
       "  <th>Covariance Type:</th>               <td>opg</td>              <th>                     </th>     <td> </td>    \n",
       "</tr>\n",
       "</table>\n",
       "<table class=\"simpletable\">\n",
       "<tr>\n",
       "      <td></td>        <th>coef</th>     <th>std err</th>      <th>z</th>      <th>P>|z|</th>  <th>[0.025</th>    <th>0.975]</th>  \n",
       "</tr>\n",
       "<tr>\n",
       "  <th>ma.L1</th>    <td>   -0.5432</td> <td>    0.066</td> <td>   -8.238</td> <td> 0.000</td> <td>   -0.672</td> <td>   -0.414</td>\n",
       "</tr>\n",
       "<tr>\n",
       "  <th>ma.S.L12</th> <td>   -0.7859</td> <td>    0.067</td> <td>  -11.735</td> <td> 0.000</td> <td>   -0.917</td> <td>   -0.655</td>\n",
       "</tr>\n",
       "<tr>\n",
       "  <th>sigma2</th>   <td> 1.405e+05</td> <td> 1.72e+04</td> <td>    8.172</td> <td> 0.000</td> <td> 1.07e+05</td> <td> 1.74e+05</td>\n",
       "</tr>\n",
       "</table>\n",
       "<table class=\"simpletable\">\n",
       "<tr>\n",
       "  <th>Ljung-Box (Q):</th>          <td>43.86</td> <th>  Jarque-Bera (JB):  </th> <td>1.52</td>\n",
       "</tr>\n",
       "<tr>\n",
       "  <th>Prob(Q):</th>                <td>0.31</td>  <th>  Prob(JB):          </th> <td>0.47</td>\n",
       "</tr>\n",
       "<tr>\n",
       "  <th>Heteroskedasticity (H):</th> <td>1.75</td>  <th>  Skew:              </th> <td>0.22</td>\n",
       "</tr>\n",
       "<tr>\n",
       "  <th>Prob(H) (two-sided):</th>    <td>0.05</td>  <th>  Kurtosis:          </th> <td>2.80</td>\n",
       "</tr>\n",
       "</table><br/><br/>Warnings:<br/>[1] Covariance matrix calculated using the outer product of gradients (complex-step)."
      ],
      "text/plain": [
       "<class 'statsmodels.iolib.summary.Summary'>\n",
       "\"\"\"\n",
       "                                 Statespace Model Results                                 \n",
       "==========================================================================================\n",
       "Dep. Variable:                      Trade Balance   No. Observations:                  168\n",
       "Model:             SARIMAX(0, 1, 1)x(0, 1, 1, 12)   Log Likelihood               -1143.056\n",
       "Date:                            Sat, 09 May 2020   AIC                           2292.111\n",
       "Time:                                    11:57:31   BIC                           2301.242\n",
       "Sample:                                01-01-2005   HQIC                          2295.820\n",
       "                                     - 12-01-2018                                         \n",
       "Covariance Type:                              opg                                         \n",
       "==============================================================================\n",
       "                 coef    std err          z      P>|z|      [0.025      0.975]\n",
       "------------------------------------------------------------------------------\n",
       "ma.L1         -0.5432      0.066     -8.238      0.000      -0.672      -0.414\n",
       "ma.S.L12      -0.7859      0.067    -11.735      0.000      -0.917      -0.655\n",
       "sigma2      1.405e+05   1.72e+04      8.172      0.000    1.07e+05    1.74e+05\n",
       "===================================================================================\n",
       "Ljung-Box (Q):                       43.86   Jarque-Bera (JB):                 1.52\n",
       "Prob(Q):                              0.31   Prob(JB):                         0.47\n",
       "Heteroskedasticity (H):               1.75   Skew:                             0.22\n",
       "Prob(H) (two-sided):                  0.05   Kurtosis:                         2.80\n",
       "===================================================================================\n",
       "\n",
       "Warnings:\n",
       "[1] Covariance matrix calculated using the outer product of gradients (complex-step).\n",
       "\"\"\""
      ]
     },
     "execution_count": 76,
     "metadata": {},
     "output_type": "execute_result"
    }
   ],
   "source": [
    "result.summary()"
   ]
  },
  {
   "cell_type": "markdown",
   "metadata": {},
   "source": [
    "### 3.3.10 Forecast after FTA revision with test data ###"
   ]
  },
  {
   "cell_type": "code",
   "execution_count": 77,
   "metadata": {},
   "outputs": [],
   "source": [
    "data2['ARIMA'] = result.predict(start=168,end=180, dynamic=True)"
   ]
  },
  {
   "cell_type": "code",
   "execution_count": 78,
   "metadata": {},
   "outputs": [],
   "source": [
    "data2_ARIMA = data2[['Trade Balance','ARIMA']][168:180]"
   ]
  },
  {
   "cell_type": "code",
   "execution_count": 79,
   "metadata": {},
   "outputs": [
    {
     "data": {
      "image/png": "[encoded data removed]",
      "text/plain": [
       "<Figure size 720x504 with 1 Axes>"
      ]
     },
     "metadata": {},
     "output_type": "display_data"
    }
   ],
   "source": [
    "data2_ARIMA[['Trade Balance','ARIMA']].plot(figsize=(10,7))\n",
    "plt.title(\"ARIMA Prediction\", fontsize=15)\n",
    "plt.xlabel('')\n",
    "plt.ylabel('Millions of U.S. dollars')\n",
    "plt.savefig('13ARIMA_test_forecast.png')"
   ]
  },
  {
   "cell_type": "markdown",
   "metadata": {},
   "source": [
    "## 3.4 Vector AR model ##"
   ]
  },
  {
   "cell_type": "markdown",
   "metadata": {},
   "source": [
    "### 3.4.1 Prepare train and validation dataset ###"
   ]
  },
  {
   "cell_type": "code",
   "execution_count": 80,
   "metadata": {},
   "outputs": [],
   "source": [
    "data3=data1[['ex_rate','interest','leading_us','leading_korea','Trade Balance']]\n"
   ]
  },
  {
   "cell_type": "code",
   "execution_count": 81,
   "metadata": {},
   "outputs": [],
   "source": [
    "data3_val = data3[['leading_us','Trade Balance']]\n",
    "data3_val = data3_val[:168]"
   ]
  },
  {
   "cell_type": "code",
   "execution_count": 82,
   "metadata": {},
   "outputs": [
    {
     "name": "stdout",
     "output_type": "stream",
     "text": [
      "(156, 2)\n",
      "(12, 2)\n"
     ]
    }
   ],
   "source": [
    "nobs = 12\n",
    "df_train, df_test = data3_val[0:-nobs], data3_val[-nobs:]\n",
    "\n",
    "# Check size\n",
    "print(df_train.shape)  \n",
    "print(df_test.shape)  "
   ]
  },
  {
   "cell_type": "markdown",
   "metadata": {},
   "source": [
    "### 3.4.2 Check stationary of variables ###"
   ]
  },
  {
   "cell_type": "code",
   "execution_count": 84,
   "metadata": {},
   "outputs": [
    {
     "name": "stdout",
     "output_type": "stream",
     "text": [
      "Non-stationary 0.6091118255461948\n"
     ]
    }
   ],
   "source": [
    "adf_check(data3_val['Trade Balance'])"
   ]
  },
  {
   "cell_type": "code",
   "execution_count": 85,
   "metadata": {},
   "outputs": [],
   "source": [
    "df_differenced = df_train.diff().dropna()"
   ]
  },
  {
   "cell_type": "code",
   "execution_count": 86,
   "metadata": {},
   "outputs": [
    {
     "name": "stdout",
     "output_type": "stream",
     "text": [
      "Stationary 0.005757825110911704\n"
     ]
    }
   ],
   "source": [
    "adf_check(df_differenced['leading_us'])"
   ]
  },
  {
   "cell_type": "code",
   "execution_count": 87,
   "metadata": {},
   "outputs": [
    {
     "name": "stdout",
     "output_type": "stream",
     "text": [
      "Stationary 0.00036001951720301565\n"
     ]
    }
   ],
   "source": [
    "adf_check(df_differenced['Trade Balance'])"
   ]
  },
  {
   "cell_type": "markdown",
   "metadata": {},
   "source": [
    "### 3.4.3 Find parameter based on AIC ###"
   ]
  },
  {
   "cell_type": "code",
   "execution_count": 88,
   "metadata": {},
   "outputs": [
    {
     "name": "stdout",
     "output_type": "stream",
     "text": [
      "Lag Order = 1\n",
      "AIC :  6.78899032910347 \n",
      "\n",
      "Lag Order = 2\n",
      "AIC :  4.561779682069114 \n",
      "\n",
      "Lag Order = 3\n",
      "AIC :  3.7358829326368497 \n",
      "\n",
      "Lag Order = 4\n",
      "AIC :  3.6969242789460153 \n",
      "\n",
      "Lag Order = 5\n",
      "AIC :  3.6728937687174725 \n",
      "\n",
      "Lag Order = 6\n",
      "AIC :  3.6899934840928754 \n",
      "\n",
      "Lag Order = 7\n",
      "AIC :  3.7214197716746202 \n",
      "\n",
      "Lag Order = 8\n",
      "AIC :  3.7509103022842916 \n",
      "\n",
      "Lag Order = 9\n",
      "AIC :  3.780927018448429 \n",
      "\n"
     ]
    }
   ],
   "source": [
    "model = VAR(df_differenced)\n",
    "for i in [1,2,3,4,5,6,7,8,9]:\n",
    "    result = model.fit(i)\n",
    "    print('Lag Order =', i)\n",
    "    print('AIC : ', result.aic, '\\n')\n",
    "    "
   ]
  },
  {
   "cell_type": "markdown",
   "metadata": {},
   "source": [
    "### 3.4.4 Fit the train data based on best AIC ###"
   ]
  },
  {
   "cell_type": "code",
   "execution_count": 89,
   "metadata": {},
   "outputs": [
    {
     "data": {
      "text/plain": [
       "  Summary of Regression Results   \n",
       "==================================\n",
       "Model:                         VAR\n",
       "Method:                        OLS\n",
       "Date:           Sat, 09, May, 2020\n",
       "Time:                     12:01:41\n",
       "--------------------------------------------------------------------\n",
       "No. of Equations:         2.00000    BIC:                    4.11445\n",
       "Nobs:                     150.000    HQIC:                   3.85229\n",
       "Log likelihood:          -679.149    FPE:                    39.3864\n",
       "AIC:                      3.67289    Det(Omega_mle):         34.1883\n",
       "--------------------------------------------------------------------\n",
       "Results for equation leading_us\n",
       "===================================================================================\n",
       "                      coefficient       std. error           t-stat            prob\n",
       "-----------------------------------------------------------------------------------\n",
       "const                    0.000022         0.001140            0.019           0.984\n",
       "L1.leading_us            2.814034         0.084670           33.235           0.000\n",
       "L1.Trade Balance        -0.000002         0.000003           -0.698           0.485\n",
       "L2.leading_us           -3.131915         0.250303          -12.512           0.000\n",
       "L2.Trade Balance        -0.000002         0.000003           -0.600           0.549\n",
       "L3.leading_us            1.699430         0.335169            5.070           0.000\n",
       "L3.Trade Balance        -0.000004         0.000004           -1.225           0.221\n",
       "L4.leading_us           -0.464040         0.249705           -1.858           0.063\n",
       "L4.Trade Balance        -0.000004         0.000003           -1.097           0.273\n",
       "L5.leading_us            0.059757         0.084499            0.707           0.479\n",
       "L5.Trade Balance        -0.000001         0.000003           -0.394           0.694\n",
       "===================================================================================\n",
       "\n",
       "Results for equation Trade Balance\n",
       "===================================================================================\n",
       "                      coefficient       std. error           t-stat            prob\n",
       "-----------------------------------------------------------------------------------\n",
       "const                  -11.496248        34.335331           -0.335           0.738\n",
       "L1.leading_us         1613.166717      2551.149198            0.632           0.527\n",
       "L1.Trade Balance        -0.773901         0.082054           -9.432           0.000\n",
       "L2.leading_us        -6568.288199      7541.747860           -0.871           0.384\n",
       "L2.Trade Balance        -0.399261         0.104184           -3.832           0.000\n",
       "L3.leading_us        12848.039052     10098.798039            1.272           0.203\n",
       "L3.Trade Balance        -0.166815         0.108676           -1.535           0.125\n",
       "L4.leading_us       -11063.971683      7523.718490           -1.471           0.141\n",
       "L4.Trade Balance        -0.178187         0.104506           -1.705           0.088\n",
       "L5.leading_us         3292.837079      2545.998940            1.293           0.196\n",
       "L5.Trade Balance        -0.256358         0.081875           -3.131           0.002\n",
       "===================================================================================\n",
       "\n",
       "Correlation matrix of residuals\n",
       "                 leading_us  Trade Balance\n",
       "leading_us         1.000000      -0.023241\n",
       "Trade Balance     -0.023241       1.000000\n",
       "\n"
      ]
     },
     "execution_count": 89,
     "metadata": {},
     "output_type": "execute_result"
    }
   ],
   "source": [
    "model_fitted = model.fit(5)\n",
    "model_fitted.summary()"
   ]
  },
  {
   "cell_type": "markdown",
   "metadata": {},
   "source": [
    "### 3.4.5 Check remain features with Durbin Watson Statistic ###"
   ]
  },
  {
   "cell_type": "code",
   "execution_count": 91,
   "metadata": {},
   "outputs": [
    {
     "name": "stdout",
     "output_type": "stream",
     "text": [
      "[1.97610868 1.98025545]\n"
     ]
    }
   ],
   "source": [
    "out = durbin_watson(model_fitted.resid)\n",
    "\n",
    "print(out)"
   ]
  },
  {
   "cell_type": "markdown",
   "metadata": {},
   "source": [
    "If DW is near 2, it means there's no remain features"
   ]
  },
  {
   "cell_type": "markdown",
   "metadata": {},
   "source": [
    "### 3.4.6 Fit validation data  ###"
   ]
  },
  {
   "cell_type": "code",
   "execution_count": 92,
   "metadata": {},
   "outputs": [
    {
     "name": "stdout",
     "output_type": "stream",
     "text": [
      "5\n"
     ]
    }
   ],
   "source": [
    "lag_order = model_fitted.k_ar\n",
    "print(lag_order)  "
   ]
  },
  {
   "cell_type": "code",
   "execution_count": 93,
   "metadata": {},
   "outputs": [
    {
     "data": {
      "text/plain": [
       "array([[ 7.352e-02, -2.832e+02],\n",
       "       [ 9.420e-02,  3.272e+02],\n",
       "       [ 1.015e-01, -5.952e+02],\n",
       "       [ 9.820e-02,  2.265e+02],\n",
       "       [ 9.800e-02,  7.115e+02]])"
      ]
     },
     "execution_count": 93,
     "metadata": {},
     "output_type": "execute_result"
    }
   ],
   "source": [
    "forecast_input = df_differenced.values[-lag_order:]\n",
    "forecast_input"
   ]
  },
  {
   "cell_type": "code",
   "execution_count": 94,
   "metadata": {},
   "outputs": [
    {
     "data": {
      "text/html": [
       "<div>\n",
       "<style scoped>\n",
       "    .dataframe tbody tr th:only-of-type {\n",
       "        vertical-align: middle;\n",
       "    }\n",
       "\n",
       "    .dataframe tbody tr th {\n",
       "        vertical-align: top;\n",
       "    }\n",
       "\n",
       "    .dataframe thead th {\n",
       "        text-align: right;\n",
       "    }\n",
       "</style>\n",
       "<table border=\"1\" class=\"dataframe\">\n",
       "  <thead>\n",
       "    <tr style=\"text-align: right;\">\n",
       "      <th></th>\n",
       "      <th>leading_us_1d</th>\n",
       "      <th>Trade Balance_1d</th>\n",
       "    </tr>\n",
       "    <tr>\n",
       "      <th>Date</th>\n",
       "      <th></th>\n",
       "      <th></th>\n",
       "    </tr>\n",
       "  </thead>\n",
       "  <tbody>\n",
       "    <tr>\n",
       "      <th>2018-01-01</th>\n",
       "      <td>0.101282</td>\n",
       "      <td>-521.949885</td>\n",
       "    </tr>\n",
       "    <tr>\n",
       "      <th>2018-02-01</th>\n",
       "      <td>0.103950</td>\n",
       "      <td>61.322930</td>\n",
       "    </tr>\n",
       "    <tr>\n",
       "      <th>2018-03-01</th>\n",
       "      <td>0.099973</td>\n",
       "      <td>152.263511</td>\n",
       "    </tr>\n",
       "    <tr>\n",
       "      <th>2018-04-01</th>\n",
       "      <td>0.087238</td>\n",
       "      <td>-232.732320</td>\n",
       "    </tr>\n",
       "    <tr>\n",
       "      <th>2018-05-01</th>\n",
       "      <td>0.069002</td>\n",
       "      <td>29.953737</td>\n",
       "    </tr>\n",
       "    <tr>\n",
       "      <th>2018-06-01</th>\n",
       "      <td>0.048764</td>\n",
       "      <td>161.881955</td>\n",
       "    </tr>\n",
       "    <tr>\n",
       "      <th>2018-07-01</th>\n",
       "      <td>0.029225</td>\n",
       "      <td>-170.288750</td>\n",
       "    </tr>\n",
       "    <tr>\n",
       "      <th>2018-08-01</th>\n",
       "      <td>0.012873</td>\n",
       "      <td>30.482033</td>\n",
       "    </tr>\n",
       "    <tr>\n",
       "      <th>2018-09-01</th>\n",
       "      <td>0.000497</td>\n",
       "      <td>39.373737</td>\n",
       "    </tr>\n",
       "    <tr>\n",
       "      <th>2018-10-01</th>\n",
       "      <td>-0.007771</td>\n",
       "      <td>-82.833547</td>\n",
       "    </tr>\n",
       "    <tr>\n",
       "      <th>2018-11-01</th>\n",
       "      <td>-0.011755</td>\n",
       "      <td>7.472073</td>\n",
       "    </tr>\n",
       "    <tr>\n",
       "      <th>2018-12-01</th>\n",
       "      <td>-0.012053</td>\n",
       "      <td>39.712550</td>\n",
       "    </tr>\n",
       "  </tbody>\n",
       "</table>\n",
       "</div>"
      ],
      "text/plain": [
       "            leading_us_1d  Trade Balance_1d\n",
       "Date                                       \n",
       "2018-01-01       0.101282       -521.949885\n",
       "2018-02-01       0.103950         61.322930\n",
       "2018-03-01       0.099973        152.263511\n",
       "2018-04-01       0.087238       -232.732320\n",
       "2018-05-01       0.069002         29.953737\n",
       "2018-06-01       0.048764        161.881955\n",
       "2018-07-01       0.029225       -170.288750\n",
       "2018-08-01       0.012873         30.482033\n",
       "2018-09-01       0.000497         39.373737\n",
       "2018-10-01      -0.007771        -82.833547\n",
       "2018-11-01      -0.011755          7.472073\n",
       "2018-12-01      -0.012053         39.712550"
      ]
     },
     "execution_count": 94,
     "metadata": {},
     "output_type": "execute_result"
    }
   ],
   "source": [
    "fc = model_fitted.forecast(y=forecast_input, steps=nobs)\n",
    "df_forecast = pd.DataFrame(fc, index=data3_val.index[-nobs:], columns=data3_val.columns + '_1d')\n",
    "df_forecast"
   ]
  },
  {
   "cell_type": "markdown",
   "metadata": {},
   "source": [
    "### 3.4.7 Because first differecing, restore to original value ###"
   ]
  },
  {
   "cell_type": "code",
   "execution_count": 95,
   "metadata": {},
   "outputs": [],
   "source": [
    "def invert_transformation(df_train, df_forecast, second_diff=False):\n",
    "    \"\"\"Revert back the differencing to get the forecast to original scale.\"\"\"\n",
    "    df_fc = df_forecast.copy()\n",
    "    columns = df_train.columns\n",
    "    for col in columns:        \n",
    "        # Roll back 2nd Diff\n",
    "        if second_diff:\n",
    "            df_fc[str(col)+'_1d'] = (df_train[col].iloc[-1]-df_train[col].iloc[-2]) + df_fc[str(col)+'_2d'].cumsum()\n",
    "        # Roll back 1st Diff\n",
    "        df_fc[str(col)+'_forecast'] = df_train[col].iloc[-1] + df_fc[str(col)+'_1d'].cumsum()\n",
    "    return df_fc"
   ]
  },
  {
   "cell_type": "code",
   "execution_count": 96,
   "metadata": {},
   "outputs": [
    {
     "data": {
      "text/html": [
       "<div>\n",
       "<style scoped>\n",
       "    .dataframe tbody tr th:only-of-type {\n",
       "        vertical-align: middle;\n",
       "    }\n",
       "\n",
       "    .dataframe tbody tr th {\n",
       "        vertical-align: top;\n",
       "    }\n",
       "\n",
       "    .dataframe thead th {\n",
       "        text-align: right;\n",
       "    }\n",
       "</style>\n",
       "<table border=\"1\" class=\"dataframe\">\n",
       "  <thead>\n",
       "    <tr style=\"text-align: right;\">\n",
       "      <th></th>\n",
       "      <th>leading_us_forecast</th>\n",
       "      <th>Trade Balance_forecast</th>\n",
       "    </tr>\n",
       "    <tr>\n",
       "      <th>Date</th>\n",
       "      <th></th>\n",
       "      <th></th>\n",
       "    </tr>\n",
       "  </thead>\n",
       "  <tbody>\n",
       "    <tr>\n",
       "      <th>2018-01-01</th>\n",
       "      <td>100.558682</td>\n",
       "      <td>-2047.649885</td>\n",
       "    </tr>\n",
       "    <tr>\n",
       "      <th>2018-02-01</th>\n",
       "      <td>100.662632</td>\n",
       "      <td>-1986.326955</td>\n",
       "    </tr>\n",
       "    <tr>\n",
       "      <th>2018-03-01</th>\n",
       "      <td>100.762605</td>\n",
       "      <td>-1834.063444</td>\n",
       "    </tr>\n",
       "    <tr>\n",
       "      <th>2018-04-01</th>\n",
       "      <td>100.849843</td>\n",
       "      <td>-2066.795764</td>\n",
       "    </tr>\n",
       "    <tr>\n",
       "      <th>2018-05-01</th>\n",
       "      <td>100.918845</td>\n",
       "      <td>-2036.842026</td>\n",
       "    </tr>\n",
       "    <tr>\n",
       "      <th>2018-06-01</th>\n",
       "      <td>100.967609</td>\n",
       "      <td>-1874.960072</td>\n",
       "    </tr>\n",
       "    <tr>\n",
       "      <th>2018-07-01</th>\n",
       "      <td>100.996833</td>\n",
       "      <td>-2045.248821</td>\n",
       "    </tr>\n",
       "    <tr>\n",
       "      <th>2018-08-01</th>\n",
       "      <td>101.009707</td>\n",
       "      <td>-2014.766788</td>\n",
       "    </tr>\n",
       "    <tr>\n",
       "      <th>2018-09-01</th>\n",
       "      <td>101.010204</td>\n",
       "      <td>-1975.393051</td>\n",
       "    </tr>\n",
       "    <tr>\n",
       "      <th>2018-10-01</th>\n",
       "      <td>101.002433</td>\n",
       "      <td>-2058.226598</td>\n",
       "    </tr>\n",
       "    <tr>\n",
       "      <th>2018-11-01</th>\n",
       "      <td>100.990678</td>\n",
       "      <td>-2050.754525</td>\n",
       "    </tr>\n",
       "    <tr>\n",
       "      <th>2018-12-01</th>\n",
       "      <td>100.978625</td>\n",
       "      <td>-2011.041976</td>\n",
       "    </tr>\n",
       "  </tbody>\n",
       "</table>\n",
       "</div>"
      ],
      "text/plain": [
       "            leading_us_forecast  Trade Balance_forecast\n",
       "Date                                                   \n",
       "2018-01-01           100.558682            -2047.649885\n",
       "2018-02-01           100.662632            -1986.326955\n",
       "2018-03-01           100.762605            -1834.063444\n",
       "2018-04-01           100.849843            -2066.795764\n",
       "2018-05-01           100.918845            -2036.842026\n",
       "2018-06-01           100.967609            -1874.960072\n",
       "2018-07-01           100.996833            -2045.248821\n",
       "2018-08-01           101.009707            -2014.766788\n",
       "2018-09-01           101.010204            -1975.393051\n",
       "2018-10-01           101.002433            -2058.226598\n",
       "2018-11-01           100.990678            -2050.754525\n",
       "2018-12-01           100.978625            -2011.041976"
      ]
     },
     "execution_count": 96,
     "metadata": {},
     "output_type": "execute_result"
    }
   ],
   "source": [
    "df_results = invert_transformation(df_train, df_forecast, second_diff=False)    \n",
    "df_results.loc[:, ['leading_us_forecast', 'Trade Balance_forecast']]"
   ]
  },
  {
   "cell_type": "markdown",
   "metadata": {},
   "source": [
    "### 3.4.8 Calculate RMSE ###"
   ]
  },
  {
   "cell_type": "code",
   "execution_count": 98,
   "metadata": {},
   "outputs": [
    {
     "name": "stdout",
     "output_type": "stream",
     "text": [
      "Forecast Accuracy of: Trade Balance\n"
     ]
    },
    {
     "data": {
      "text/plain": [
       "{'rmse': 658.5400823816899}"
      ]
     },
     "execution_count": 98,
     "metadata": {},
     "output_type": "execute_result"
    }
   ],
   "source": [
    "def forecast_accuracy(forecast, actual):\n",
    "    rmse = np.mean((forecast - actual)**2)**.5  # RMSE\n",
    "          \n",
    "    return({'rmse':rmse})\n",
    "\n",
    "print('Forecast Accuracy of: Trade Balance')\n",
    "accuracy_prod = forecast_accuracy(df_results['Trade Balance_forecast'].values, df_test['Trade Balance'])\n",
    "accuracy_prod\n"
   ]
  },
  {
   "cell_type": "markdown",
   "metadata": {},
   "source": [
    "### 3.4.9 Train all previous data ###"
   ]
  },
  {
   "cell_type": "code",
   "execution_count": 99,
   "metadata": {},
   "outputs": [],
   "source": [
    "data3 = data1[['leading_us','Trade Balance']]"
   ]
  },
  {
   "cell_type": "code",
   "execution_count": 100,
   "metadata": {},
   "outputs": [
    {
     "name": "stdout",
     "output_type": "stream",
     "text": [
      "(168, 2)\n",
      "(12, 2)\n"
     ]
    }
   ],
   "source": [
    "nobs = 12\n",
    "df_train, df_test = data3[0:-nobs], data3[-nobs:]\n",
    "\n",
    "# Check size\n",
    "print(df_train.shape)  \n",
    "print(df_test.shape)  "
   ]
  },
  {
   "cell_type": "code",
   "execution_count": 101,
   "metadata": {},
   "outputs": [],
   "source": [
    "df_differenced = df_train.diff().dropna()\n"
   ]
  },
  {
   "cell_type": "code",
   "execution_count": 102,
   "metadata": {},
   "outputs": [
    {
     "name": "stdout",
     "output_type": "stream",
     "text": [
      "Stationary 0.003669253327519878\n"
     ]
    }
   ],
   "source": [
    "adf_check(df_differenced['leading_us'])"
   ]
  },
  {
   "cell_type": "code",
   "execution_count": 103,
   "metadata": {},
   "outputs": [
    {
     "name": "stdout",
     "output_type": "stream",
     "text": [
      "Stationary 0.00018837819070330008\n"
     ]
    }
   ],
   "source": [
    "adf_check(df_differenced['Trade Balance'])"
   ]
  },
  {
   "cell_type": "code",
   "execution_count": 104,
   "metadata": {},
   "outputs": [
    {
     "data": {
      "text/plain": [
       "  Summary of Regression Results   \n",
       "==================================\n",
       "Model:                         VAR\n",
       "Method:                        OLS\n",
       "Date:           Sat, 09, May, 2020\n",
       "Time:                     12:05:55\n",
       "--------------------------------------------------------------------\n",
       "No. of Equations:         2.00000    BIC:                    4.11445\n",
       "Nobs:                     150.000    HQIC:                   3.85229\n",
       "Log likelihood:          -679.149    FPE:                    39.3864\n",
       "AIC:                      3.67289    Det(Omega_mle):         34.1883\n",
       "--------------------------------------------------------------------\n",
       "Results for equation leading_us\n",
       "===================================================================================\n",
       "                      coefficient       std. error           t-stat            prob\n",
       "-----------------------------------------------------------------------------------\n",
       "const                    0.000022         0.001140            0.019           0.984\n",
       "L1.leading_us            2.814034         0.084670           33.235           0.000\n",
       "L1.Trade Balance        -0.000002         0.000003           -0.698           0.485\n",
       "L2.leading_us           -3.131915         0.250303          -12.512           0.000\n",
       "L2.Trade Balance        -0.000002         0.000003           -0.600           0.549\n",
       "L3.leading_us            1.699430         0.335169            5.070           0.000\n",
       "L3.Trade Balance        -0.000004         0.000004           -1.225           0.221\n",
       "L4.leading_us           -0.464040         0.249705           -1.858           0.063\n",
       "L4.Trade Balance        -0.000004         0.000003           -1.097           0.273\n",
       "L5.leading_us            0.059757         0.084499            0.707           0.479\n",
       "L5.Trade Balance        -0.000001         0.000003           -0.394           0.694\n",
       "===================================================================================\n",
       "\n",
       "Results for equation Trade Balance\n",
       "===================================================================================\n",
       "                      coefficient       std. error           t-stat            prob\n",
       "-----------------------------------------------------------------------------------\n",
       "const                  -11.496248        34.335331           -0.335           0.738\n",
       "L1.leading_us         1613.166717      2551.149198            0.632           0.527\n",
       "L1.Trade Balance        -0.773901         0.082054           -9.432           0.000\n",
       "L2.leading_us        -6568.288199      7541.747860           -0.871           0.384\n",
       "L2.Trade Balance        -0.399261         0.104184           -3.832           0.000\n",
       "L3.leading_us        12848.039052     10098.798039            1.272           0.203\n",
       "L3.Trade Balance        -0.166815         0.108676           -1.535           0.125\n",
       "L4.leading_us       -11063.971683      7523.718490           -1.471           0.141\n",
       "L4.Trade Balance        -0.178187         0.104506           -1.705           0.088\n",
       "L5.leading_us         3292.837079      2545.998940            1.293           0.196\n",
       "L5.Trade Balance        -0.256358         0.081875           -3.131           0.002\n",
       "===================================================================================\n",
       "\n",
       "Correlation matrix of residuals\n",
       "                 leading_us  Trade Balance\n",
       "leading_us         1.000000      -0.023241\n",
       "Trade Balance     -0.023241       1.000000\n",
       "\n"
      ]
     },
     "execution_count": 104,
     "metadata": {},
     "output_type": "execute_result"
    }
   ],
   "source": [
    "model_fitted = model.fit(5)\n",
    "model_fitted.summary()"
   ]
  },
  {
   "cell_type": "markdown",
   "metadata": {},
   "source": [
    "### 3.4.10 Check remain features for residuals ###"
   ]
  },
  {
   "cell_type": "code",
   "execution_count": 105,
   "metadata": {},
   "outputs": [
    {
     "name": "stdout",
     "output_type": "stream",
     "text": [
      "[1.97610868 1.98025545]\n"
     ]
    }
   ],
   "source": [
    "out = durbin_watson(model_fitted.resid)\n",
    "\n",
    "print(out)"
   ]
  },
  {
   "cell_type": "markdown",
   "metadata": {},
   "source": [
    "### 3.4.11 Forecast after FTA revision ###"
   ]
  },
  {
   "cell_type": "code",
   "execution_count": 106,
   "metadata": {},
   "outputs": [
    {
     "name": "stdout",
     "output_type": "stream",
     "text": [
      "5\n"
     ]
    }
   ],
   "source": [
    "lag_order = model_fitted.k_ar\n",
    "print(lag_order)  "
   ]
  },
  {
   "cell_type": "code",
   "execution_count": 107,
   "metadata": {},
   "outputs": [
    {
     "data": {
      "text/plain": [
       "array([[-7.1500e-02, -2.5590e+02],\n",
       "       [-1.1660e-01,  3.9070e+02],\n",
       "       [-1.7000e-01, -5.0120e+02],\n",
       "       [-2.0190e-01, -4.2000e+01],\n",
       "       [-2.1219e-01,  1.1653e+03]])"
      ]
     },
     "execution_count": 107,
     "metadata": {},
     "output_type": "execute_result"
    }
   ],
   "source": [
    "forecast_input = df_differenced.values[-lag_order:]\n",
    "forecast_input"
   ]
  },
  {
   "cell_type": "code",
   "execution_count": 108,
   "metadata": {},
   "outputs": [
    {
     "data": {
      "text/html": [
       "<div>\n",
       "<style scoped>\n",
       "    .dataframe tbody tr th:only-of-type {\n",
       "        vertical-align: middle;\n",
       "    }\n",
       "\n",
       "    .dataframe tbody tr th {\n",
       "        vertical-align: top;\n",
       "    }\n",
       "\n",
       "    .dataframe thead th {\n",
       "        text-align: right;\n",
       "    }\n",
       "</style>\n",
       "<table border=\"1\" class=\"dataframe\">\n",
       "  <thead>\n",
       "    <tr style=\"text-align: right;\">\n",
       "      <th></th>\n",
       "      <th>leading_us_1d</th>\n",
       "      <th>Trade Balance_1d</th>\n",
       "    </tr>\n",
       "    <tr>\n",
       "      <th>Date</th>\n",
       "      <th></th>\n",
       "      <th></th>\n",
       "    </tr>\n",
       "  </thead>\n",
       "  <tbody>\n",
       "    <tr>\n",
       "      <th>2019-01-01</th>\n",
       "      <td>-0.204949</td>\n",
       "      <td>-962.668142</td>\n",
       "    </tr>\n",
       "    <tr>\n",
       "      <th>2019-02-01</th>\n",
       "      <td>-0.182258</td>\n",
       "      <td>230.428854</td>\n",
       "    </tr>\n",
       "    <tr>\n",
       "      <th>2019-03-01</th>\n",
       "      <td>-0.150940</td>\n",
       "      <td>136.072916</td>\n",
       "    </tr>\n",
       "    <tr>\n",
       "      <th>2019-04-01</th>\n",
       "      <td>-0.116681</td>\n",
       "      <td>-241.816497</td>\n",
       "    </tr>\n",
       "    <tr>\n",
       "      <th>2019-05-01</th>\n",
       "      <td>-0.081327</td>\n",
       "      <td>-13.941099</td>\n",
       "    </tr>\n",
       "    <tr>\n",
       "      <th>2019-06-01</th>\n",
       "      <td>-0.047501</td>\n",
       "      <td>316.424256</td>\n",
       "    </tr>\n",
       "    <tr>\n",
       "      <th>2019-07-01</th>\n",
       "      <td>-0.018349</td>\n",
       "      <td>-265.520605</td>\n",
       "    </tr>\n",
       "    <tr>\n",
       "      <th>2019-08-01</th>\n",
       "      <td>0.004758</td>\n",
       "      <td>109.638143</td>\n",
       "    </tr>\n",
       "    <tr>\n",
       "      <th>2019-09-01</th>\n",
       "      <td>0.020177</td>\n",
       "      <td>54.842157</td>\n",
       "    </tr>\n",
       "    <tr>\n",
       "      <th>2019-10-01</th>\n",
       "      <td>0.027550</td>\n",
       "      <td>-82.926458</td>\n",
       "    </tr>\n",
       "    <tr>\n",
       "      <th>2019-11-01</th>\n",
       "      <td>0.028351</td>\n",
       "      <td>-1.661485</td>\n",
       "    </tr>\n",
       "    <tr>\n",
       "      <th>2019-12-01</th>\n",
       "      <td>0.024302</td>\n",
       "      <td>73.227092</td>\n",
       "    </tr>\n",
       "  </tbody>\n",
       "</table>\n",
       "</div>"
      ],
      "text/plain": [
       "            leading_us_1d  Trade Balance_1d\n",
       "Date                                       \n",
       "2019-01-01      -0.204949       -962.668142\n",
       "2019-02-01      -0.182258        230.428854\n",
       "2019-03-01      -0.150940        136.072916\n",
       "2019-04-01      -0.116681       -241.816497\n",
       "2019-05-01      -0.081327        -13.941099\n",
       "2019-06-01      -0.047501        316.424256\n",
       "2019-07-01      -0.018349       -265.520605\n",
       "2019-08-01       0.004758        109.638143\n",
       "2019-09-01       0.020177         54.842157\n",
       "2019-10-01       0.027550        -82.926458\n",
       "2019-11-01       0.028351         -1.661485\n",
       "2019-12-01       0.024302         73.227092"
      ]
     },
     "execution_count": 108,
     "metadata": {},
     "output_type": "execute_result"
    }
   ],
   "source": [
    "fc = model_fitted.forecast(y=forecast_input, steps=nobs)\n",
    "df_forecast = pd.DataFrame(fc, index=data3.index[-nobs:], columns=data3.columns + '_1d')\n",
    "df_forecast"
   ]
  },
  {
   "cell_type": "markdown",
   "metadata": {},
   "source": [
    "### 3.4.12 Restore first differenced variables ###"
   ]
  },
  {
   "cell_type": "code",
   "execution_count": 109,
   "metadata": {},
   "outputs": [],
   "source": [
    "def invert_transformation(df_train, df_forecast, second_diff=False):\n",
    "    \"\"\"Revert back the differencing to get the forecast to original scale.\"\"\"\n",
    "    df_fc = df_forecast.copy()\n",
    "    columns = df_train.columns\n",
    "    for col in columns:        \n",
    "        # Roll back 2nd Diff\n",
    "        if second_diff:\n",
    "            df_fc[str(col)+'_1d'] = (df_train[col].iloc[-1]-df_train[col].iloc[-2]) + df_fc[str(col)+'_2d'].cumsum()\n",
    "        # Roll back 1st Diff\n",
    "        df_fc[str(col)+'_forecast'] = df_train[col].iloc[-1] + df_fc[str(col)+'_1d'].cumsum()\n",
    "    return df_fc"
   ]
  },
  {
   "cell_type": "code",
   "execution_count": 110,
   "metadata": {},
   "outputs": [
    {
     "data": {
      "text/html": [
       "<div>\n",
       "<style scoped>\n",
       "    .dataframe tbody tr th:only-of-type {\n",
       "        vertical-align: middle;\n",
       "    }\n",
       "\n",
       "    .dataframe tbody tr th {\n",
       "        vertical-align: top;\n",
       "    }\n",
       "\n",
       "    .dataframe thead th {\n",
       "        text-align: right;\n",
       "    }\n",
       "</style>\n",
       "<table border=\"1\" class=\"dataframe\">\n",
       "  <thead>\n",
       "    <tr style=\"text-align: right;\">\n",
       "      <th></th>\n",
       "      <th>leading_us_forecast</th>\n",
       "      <th>Trade Balance_forecast</th>\n",
       "    </tr>\n",
       "    <tr>\n",
       "      <th>Date</th>\n",
       "      <th></th>\n",
       "      <th></th>\n",
       "    </tr>\n",
       "  </thead>\n",
       "  <tbody>\n",
       "    <tr>\n",
       "      <th>2019-01-01</th>\n",
       "      <td>99.643861</td>\n",
       "      <td>-1755.068142</td>\n",
       "    </tr>\n",
       "    <tr>\n",
       "      <th>2019-02-01</th>\n",
       "      <td>99.461603</td>\n",
       "      <td>-1524.639288</td>\n",
       "    </tr>\n",
       "    <tr>\n",
       "      <th>2019-03-01</th>\n",
       "      <td>99.310663</td>\n",
       "      <td>-1388.566372</td>\n",
       "    </tr>\n",
       "    <tr>\n",
       "      <th>2019-04-01</th>\n",
       "      <td>99.193982</td>\n",
       "      <td>-1630.382869</td>\n",
       "    </tr>\n",
       "    <tr>\n",
       "      <th>2019-05-01</th>\n",
       "      <td>99.112655</td>\n",
       "      <td>-1644.323967</td>\n",
       "    </tr>\n",
       "    <tr>\n",
       "      <th>2019-06-01</th>\n",
       "      <td>99.065154</td>\n",
       "      <td>-1327.899712</td>\n",
       "    </tr>\n",
       "    <tr>\n",
       "      <th>2019-07-01</th>\n",
       "      <td>99.046805</td>\n",
       "      <td>-1593.420317</td>\n",
       "    </tr>\n",
       "    <tr>\n",
       "      <th>2019-08-01</th>\n",
       "      <td>99.051564</td>\n",
       "      <td>-1483.782173</td>\n",
       "    </tr>\n",
       "    <tr>\n",
       "      <th>2019-09-01</th>\n",
       "      <td>99.071741</td>\n",
       "      <td>-1428.940017</td>\n",
       "    </tr>\n",
       "    <tr>\n",
       "      <th>2019-10-01</th>\n",
       "      <td>99.099291</td>\n",
       "      <td>-1511.866474</td>\n",
       "    </tr>\n",
       "    <tr>\n",
       "      <th>2019-11-01</th>\n",
       "      <td>99.127642</td>\n",
       "      <td>-1513.527959</td>\n",
       "    </tr>\n",
       "    <tr>\n",
       "      <th>2019-12-01</th>\n",
       "      <td>99.151944</td>\n",
       "      <td>-1440.300867</td>\n",
       "    </tr>\n",
       "  </tbody>\n",
       "</table>\n",
       "</div>"
      ],
      "text/plain": [
       "            leading_us_forecast  Trade Balance_forecast\n",
       "Date                                                   \n",
       "2019-01-01            99.643861            -1755.068142\n",
       "2019-02-01            99.461603            -1524.639288\n",
       "2019-03-01            99.310663            -1388.566372\n",
       "2019-04-01            99.193982            -1630.382869\n",
       "2019-05-01            99.112655            -1644.323967\n",
       "2019-06-01            99.065154            -1327.899712\n",
       "2019-07-01            99.046805            -1593.420317\n",
       "2019-08-01            99.051564            -1483.782173\n",
       "2019-09-01            99.071741            -1428.940017\n",
       "2019-10-01            99.099291            -1511.866474\n",
       "2019-11-01            99.127642            -1513.527959\n",
       "2019-12-01            99.151944            -1440.300867"
      ]
     },
     "execution_count": 110,
     "metadata": {},
     "output_type": "execute_result"
    }
   ],
   "source": [
    "df_results = invert_transformation(df_train, df_forecast, second_diff=False)    \n",
    "df_results.loc[:, ['leading_us_forecast', 'Trade Balance_forecast']]"
   ]
  },
  {
   "cell_type": "code",
   "execution_count": 111,
   "metadata": {},
   "outputs": [],
   "source": [
    "data3['VAR'] = round(df_results[\"Trade Balance_forecast\"])"
   ]
  },
  {
   "cell_type": "code",
   "execution_count": 112,
   "metadata": {},
   "outputs": [],
   "source": [
    "data3_VAR = data3[['Trade Balance','VAR']][168:180]"
   ]
  },
  {
   "cell_type": "code",
   "execution_count": 113,
   "metadata": {},
   "outputs": [
    {
     "data": {
      "image/png": "[encoded data removed]",
      "text/plain": [
       "<Figure size 720x504 with 1 Axes>"
      ]
     },
     "metadata": {},
     "output_type": "display_data"
    }
   ],
   "source": [
    "data3_VAR[['Trade Balance','VAR']].plot(figsize=(10,7))\n",
    "plt.title(\"VAR Prediction\", fontsize=15)\n",
    "plt.xlabel('')\n",
    "plt.ylabel('Millions of U.S. dollars')\n",
    "plt.savefig('14VAR_prediction.png')"
   ]
  },
  {
   "cell_type": "markdown",
   "metadata": {},
   "source": [
    "# 4. Summary and Paired T-test #"
   ]
  },
  {
   "cell_type": "markdown",
   "metadata": {},
   "source": [
    "### 4.1 Summary for 3 algorithms ###"
   ]
  },
  {
   "cell_type": "code",
   "execution_count": 115,
   "metadata": {},
   "outputs": [],
   "source": [
    "data3['ARIMA'] = round(data2['ARIMA'])"
   ]
  },
  {
   "cell_type": "code",
   "execution_count": 116,
   "metadata": {},
   "outputs": [],
   "source": [
    "data3 = data3[168:]"
   ]
  },
  {
   "cell_type": "code",
   "execution_count": 117,
   "metadata": {},
   "outputs": [],
   "source": [
    "data3['LSTM'] = [-1339,-2076,-1703,-1628,-1728,-1665,-1530,-1763,-1862,-1533,-1772,-1622]"
   ]
  },
  {
   "cell_type": "markdown",
   "metadata": {},
   "source": [
    "There's some issue for LSTM model data type. So, I just type LSTM data manually"
   ]
  },
  {
   "cell_type": "code",
   "execution_count": 118,
   "metadata": {},
   "outputs": [
    {
     "data": {
      "text/html": [
       "<div>\n",
       "<style scoped>\n",
       "    .dataframe tbody tr th:only-of-type {\n",
       "        vertical-align: middle;\n",
       "    }\n",
       "\n",
       "    .dataframe tbody tr th {\n",
       "        vertical-align: top;\n",
       "    }\n",
       "\n",
       "    .dataframe thead th {\n",
       "        text-align: right;\n",
       "    }\n",
       "</style>\n",
       "<table border=\"1\" class=\"dataframe\">\n",
       "  <thead>\n",
       "    <tr style=\"text-align: right;\">\n",
       "      <th></th>\n",
       "      <th>leading_us</th>\n",
       "      <th>Trade Balance</th>\n",
       "      <th>VAR</th>\n",
       "      <th>ARIMA</th>\n",
       "      <th>LSTM</th>\n",
       "    </tr>\n",
       "    <tr>\n",
       "      <th>Date</th>\n",
       "      <th></th>\n",
       "      <th></th>\n",
       "      <th></th>\n",
       "      <th></th>\n",
       "      <th></th>\n",
       "    </tr>\n",
       "  </thead>\n",
       "  <tbody>\n",
       "    <tr>\n",
       "      <th>2019-01-01</th>\n",
       "      <td>99.65370</td>\n",
       "      <td>-3028.9</td>\n",
       "      <td>-1755.0</td>\n",
       "      <td>-1826.0</td>\n",
       "      <td>-1339</td>\n",
       "    </tr>\n",
       "    <tr>\n",
       "      <th>2019-02-01</th>\n",
       "      <td>99.48927</td>\n",
       "      <td>-1813.2</td>\n",
       "      <td>-1525.0</td>\n",
       "      <td>-901.0</td>\n",
       "      <td>-2076</td>\n",
       "    </tr>\n",
       "    <tr>\n",
       "      <th>2019-03-01</th>\n",
       "      <td>99.35271</td>\n",
       "      <td>-1539.8</td>\n",
       "      <td>-1389.0</td>\n",
       "      <td>-1247.0</td>\n",
       "      <td>-1703</td>\n",
       "    </tr>\n",
       "    <tr>\n",
       "      <th>2019-04-01</th>\n",
       "      <td>99.22594</td>\n",
       "      <td>-1814.6</td>\n",
       "      <td>-1630.0</td>\n",
       "      <td>-1685.0</td>\n",
       "      <td>-1628</td>\n",
       "    </tr>\n",
       "    <tr>\n",
       "      <th>2019-05-01</th>\n",
       "      <td>99.10625</td>\n",
       "      <td>-1585.1</td>\n",
       "      <td>-1644.0</td>\n",
       "      <td>-1620.0</td>\n",
       "      <td>-1728</td>\n",
       "    </tr>\n",
       "    <tr>\n",
       "      <th>2019-06-01</th>\n",
       "      <td>98.99672</td>\n",
       "      <td>-1132.1</td>\n",
       "      <td>-1328.0</td>\n",
       "      <td>-1412.0</td>\n",
       "      <td>-1665</td>\n",
       "    </tr>\n",
       "    <tr>\n",
       "      <th>2019-07-01</th>\n",
       "      <td>98.90261</td>\n",
       "      <td>-1831.3</td>\n",
       "      <td>-1593.0</td>\n",
       "      <td>-1618.0</td>\n",
       "      <td>-1530</td>\n",
       "    </tr>\n",
       "    <tr>\n",
       "      <th>2019-08-01</th>\n",
       "      <td>98.83972</td>\n",
       "      <td>-2122.8</td>\n",
       "      <td>-1484.0</td>\n",
       "      <td>-1555.0</td>\n",
       "      <td>-1763</td>\n",
       "    </tr>\n",
       "    <tr>\n",
       "      <th>2019-09-01</th>\n",
       "      <td>98.84105</td>\n",
       "      <td>-1097.8</td>\n",
       "      <td>-1429.0</td>\n",
       "      <td>-1325.0</td>\n",
       "      <td>-1862</td>\n",
       "    </tr>\n",
       "    <tr>\n",
       "      <th>2019-10-01</th>\n",
       "      <td>98.91140</td>\n",
       "      <td>-1863.1</td>\n",
       "      <td>-1512.0</td>\n",
       "      <td>-1525.0</td>\n",
       "      <td>-1533</td>\n",
       "    </tr>\n",
       "    <tr>\n",
       "      <th>2019-11-01</th>\n",
       "      <td>99.04106</td>\n",
       "      <td>-1432.8</td>\n",
       "      <td>-1514.0</td>\n",
       "      <td>-1717.0</td>\n",
       "      <td>-1772</td>\n",
       "    </tr>\n",
       "    <tr>\n",
       "      <th>2019-12-01</th>\n",
       "      <td>99.21168</td>\n",
       "      <td>-1352.3</td>\n",
       "      <td>-1440.0</td>\n",
       "      <td>-924.0</td>\n",
       "      <td>-1622</td>\n",
       "    </tr>\n",
       "  </tbody>\n",
       "</table>\n",
       "</div>"
      ],
      "text/plain": [
       "            leading_us  Trade Balance     VAR   ARIMA  LSTM\n",
       "Date                                                       \n",
       "2019-01-01    99.65370        -3028.9 -1755.0 -1826.0 -1339\n",
       "2019-02-01    99.48927        -1813.2 -1525.0  -901.0 -2076\n",
       "2019-03-01    99.35271        -1539.8 -1389.0 -1247.0 -1703\n",
       "2019-04-01    99.22594        -1814.6 -1630.0 -1685.0 -1628\n",
       "2019-05-01    99.10625        -1585.1 -1644.0 -1620.0 -1728\n",
       "2019-06-01    98.99672        -1132.1 -1328.0 -1412.0 -1665\n",
       "2019-07-01    98.90261        -1831.3 -1593.0 -1618.0 -1530\n",
       "2019-08-01    98.83972        -2122.8 -1484.0 -1555.0 -1763\n",
       "2019-09-01    98.84105        -1097.8 -1429.0 -1325.0 -1862\n",
       "2019-10-01    98.91140        -1863.1 -1512.0 -1525.0 -1533\n",
       "2019-11-01    99.04106        -1432.8 -1514.0 -1717.0 -1772\n",
       "2019-12-01    99.21168        -1352.3 -1440.0  -924.0 -1622"
      ]
     },
     "execution_count": 118,
     "metadata": {},
     "output_type": "execute_result"
    }
   ],
   "source": [
    "data3"
   ]
  },
  {
   "cell_type": "code",
   "execution_count": 120,
   "metadata": {},
   "outputs": [],
   "source": [
    "data3 = data3[['Trade Balance','VAR','ARIMA','LSTM']]"
   ]
  },
  {
   "cell_type": "code",
   "execution_count": 123,
   "metadata": {},
   "outputs": [
    {
     "data": {
      "image/png": "[encoded data removed]",
      "text/plain": [
       "<Figure size 1296x432 with 1 Axes>"
      ]
     },
     "metadata": {},
     "output_type": "display_data"
    }
   ],
   "source": [
    "plt.figure(figsize=(18,6))\n",
    "b = sns.lineplot(data=data3, sort=True, linewidth=2.5,\n",
    "            palette=\"tab10\")\n",
    "\n",
    "b.axes.set_title(\"Trade Balance Prediction\",fontsize=20)\n",
    "b.set_xlabel('After FTA revision', fontsize=15)\n",
    "b.set_ylabel(\"Millions of U.S. dollars\",fontsize=15)\n",
    "plt.savefig('15compare3algorithms.png')"
   ]
  },
  {
   "cell_type": "markdown",
   "metadata": {},
   "source": [
    "### 4.2 Compare annual mean ###"
   ]
  },
  {
   "cell_type": "code",
   "execution_count": 124,
   "metadata": {},
   "outputs": [
    {
     "name": "stdout",
     "output_type": "stream",
     "text": [
      "Trade Balance 2019 mean:  -1718\n",
      "LSTM          2019 mean:  -1685\n",
      "ARIMA         2019 mean:  -1446\n",
      "VAR           2019 mean:  -1520\n"
     ]
    }
   ],
   "source": [
    "print('Trade Balance 2019 mean: ',round(data3['Trade Balance'].mean()))\n",
    "print('LSTM          2019 mean: ',round(data3['LSTM'].mean()))\n",
    "print('ARIMA         2019 mean: ',round(data3['ARIMA'].mean()))\n",
    "print('VAR           2019 mean: ',round(data3['VAR'].mean()))"
   ]
  },
  {
   "cell_type": "markdown",
   "metadata": {},
   "source": [
    "### 4.3 Paired T-test for each algorithm ###"
   ]
  },
  {
   "cell_type": "code",
   "execution_count": 125,
   "metadata": {},
   "outputs": [
    {
     "data": {
      "text/plain": [
       "Ttest_relResult(statistic=0.17972082678180104, pvalue=0.8606396085453034)"
      ]
     },
     "execution_count": 125,
     "metadata": {},
     "output_type": "execute_result"
    }
   ],
   "source": [
    "stats.ttest_rel(data3['LSTM'],data3['Trade Balance'])"
   ]
  },
  {
   "cell_type": "code",
   "execution_count": 126,
   "metadata": {},
   "outputs": [
    {
     "data": {
      "text/plain": [
       "Ttest_relResult(statistic=2.024896398883517, pvalue=0.06784328075727496)"
      ]
     },
     "execution_count": 126,
     "metadata": {},
     "output_type": "execute_result"
    }
   ],
   "source": [
    "stats.ttest_rel(data3['ARIMA'],data3['Trade Balance'])"
   ]
  },
  {
   "cell_type": "code",
   "execution_count": 127,
   "metadata": {},
   "outputs": [
    {
     "data": {
      "text/plain": [
       "Ttest_relResult(statistic=1.5860199068879204, pvalue=0.14104185865155455)"
      ]
     },
     "execution_count": 127,
     "metadata": {},
     "output_type": "execute_result"
    }
   ],
   "source": [
    "stats.ttest_rel(data3['VAR'],data3['Trade Balance'])"
   ]
  }
 ],
 "metadata": {
  "kernelspec": {
   "display_name": "Python 3",
   "language": "python",
   "name": "python3"
  },
  "language_info": {
   "codemirror_mode": {
    "name": "ipython",
    "version": 3
   },
   "file_extension": ".py",
   "mimetype": "text/x-python",
   "name": "python",
   "nbconvert_exporter": "python",
   "pygments_lexer": "ipython3",
   "version": "3.7.4"
  }
 },
 "nbformat": 4,
 "nbformat_minor": 2
}

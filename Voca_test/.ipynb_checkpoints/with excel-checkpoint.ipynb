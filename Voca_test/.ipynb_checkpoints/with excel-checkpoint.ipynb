{
 "cells": [
  {
   "cell_type": "markdown",
   "metadata": {},
   "source": [
    "## 1. Import library & data ##"
   ]
  },
  {
   "cell_type": "markdown",
   "metadata": {},
   "source": [
    "#### 1.1 Import library"
   ]
  },
  {
   "cell_type": "code",
   "execution_count": null,
   "metadata": {},
   "outputs": [],
   "source": [
    "import pandas as pd\n",
    "import random"
   ]
  },
  {
   "cell_type": "markdown",
   "metadata": {},
   "source": [
    "#### 1.2 Import data ###"
   ]
  },
  {
   "cell_type": "code",
   "execution_count": 2,
   "metadata": {},
   "outputs": [],
   "source": [
    "ff = pd.read_excel(\"Book1.xlsx\",header=None)"
   ]
  },
  {
   "cell_type": "code",
   "execution_count": 4,
   "metadata": {},
   "outputs": [
    {
     "data": {
      "text/html": [
       "<div>\n",
       "<style scoped>\n",
       "    .dataframe tbody tr th:only-of-type {\n",
       "        vertical-align: middle;\n",
       "    }\n",
       "\n",
       "    .dataframe tbody tr th {\n",
       "        vertical-align: top;\n",
       "    }\n",
       "\n",
       "    .dataframe thead th {\n",
       "        text-align: right;\n",
       "    }\n",
       "</style>\n",
       "<table border=\"1\" class=\"dataframe\">\n",
       "  <thead>\n",
       "    <tr style=\"text-align: right;\">\n",
       "      <th></th>\n",
       "      <th>0</th>\n",
       "      <th>1</th>\n",
       "      <th>2</th>\n",
       "      <th>3</th>\n",
       "      <th>4</th>\n",
       "      <th>5</th>\n",
       "      <th>6</th>\n",
       "      <th>7</th>\n",
       "    </tr>\n",
       "  </thead>\n",
       "  <tbody>\n",
       "    <tr>\n",
       "      <th>0</th>\n",
       "      <td>1</td>\n",
       "      <td>apt</td>\n",
       "      <td>~하는 경향이 있는</td>\n",
       "      <td>inclined</td>\n",
       "      <td>prone</td>\n",
       "      <td>disposed</td>\n",
       "      <td>NaN</td>\n",
       "      <td>NaN</td>\n",
       "    </tr>\n",
       "    <tr>\n",
       "      <th>1</th>\n",
       "      <td>1</td>\n",
       "      <td>apt</td>\n",
       "      <td>적당한</td>\n",
       "      <td>appropriate</td>\n",
       "      <td>proper</td>\n",
       "      <td>suitable</td>\n",
       "      <td>NaN</td>\n",
       "      <td>NaN</td>\n",
       "    </tr>\n",
       "    <tr>\n",
       "      <th>2</th>\n",
       "      <td>1</td>\n",
       "      <td>astonish</td>\n",
       "      <td>놀라게 하다.</td>\n",
       "      <td>surprise</td>\n",
       "      <td>astound</td>\n",
       "      <td>shock</td>\n",
       "      <td>startle</td>\n",
       "      <td>daze</td>\n",
       "    </tr>\n",
       "    <tr>\n",
       "      <th>3</th>\n",
       "      <td>1</td>\n",
       "      <td>chronically</td>\n",
       "      <td>만성적으로</td>\n",
       "      <td>constantly</td>\n",
       "      <td>persistently</td>\n",
       "      <td>continuously</td>\n",
       "      <td>habitually</td>\n",
       "      <td>NaN</td>\n",
       "    </tr>\n",
       "    <tr>\n",
       "      <th>4</th>\n",
       "      <td>1</td>\n",
       "      <td>daub</td>\n",
       "      <td>흠뻑 칠하다</td>\n",
       "      <td>coat</td>\n",
       "      <td>cover</td>\n",
       "      <td>plaster</td>\n",
       "      <td>slather</td>\n",
       "      <td>NaN</td>\n",
       "    </tr>\n",
       "  </tbody>\n",
       "</table>\n",
       "</div>"
      ],
      "text/plain": [
       "   0            1            2             3             4             5  \\\n",
       "0  1          apt   ~하는 경향이 있는      inclined         prone      disposed   \n",
       "1  1          apt          적당한   appropriate        proper      suitable   \n",
       "2  1     astonish      놀라게 하다.      surprise       astound         shock   \n",
       "3  1  chronically        만성적으로    constantly  persistently  continuously   \n",
       "4  1         daub       흠뻑 칠하다          coat         cover       plaster   \n",
       "\n",
       "            6      7  \n",
       "0         NaN    NaN  \n",
       "1         NaN    NaN  \n",
       "2     startle   daze  \n",
       "3  habitually    NaN  \n",
       "4     slather    NaN  "
      ]
     },
     "execution_count": 4,
     "metadata": {},
     "output_type": "execute_result"
    }
   ],
   "source": [
    "ff.head()"
   ]
  },
  {
   "cell_type": "markdown",
   "metadata": {},
   "source": [
    "## 2. Data pre-processing ##"
   ]
  },
  {
   "cell_type": "markdown",
   "metadata": {},
   "source": [
    "#### 2.1 Put column names and select column ####"
   ]
  },
  {
   "cell_type": "code",
   "execution_count": 5,
   "metadata": {},
   "outputs": [],
   "source": [
    "ff.columns=['days','words','korean','synonim1','synonim2','synonim3','synonim4','synonim5']"
   ]
  },
  {
   "cell_type": "code",
   "execution_count": 6,
   "metadata": {},
   "outputs": [],
   "source": [
    "ff = ff[['days','words','synonim1','synonim2','synonim3','synonim4','synonim5']]"
   ]
  },
  {
   "cell_type": "markdown",
   "metadata": {},
   "source": [
    "#### 2.2 Make a empty dataframe if you don't have and save it as excel file ####"
   ]
  },
  {
   "cell_type": "code",
   "execution_count": 7,
   "metadata": {},
   "outputs": [],
   "source": [
    "#hard_voca = pd.DataFrame(index=range(0), columns=['Voca', 'incorrect#', 'correct#'])\n",
    "#hard_voca.to_excel('hard_voca.xlsx')"
   ]
  },
  {
   "cell_type": "markdown",
   "metadata": {},
   "source": [
    "#### 2.3 Import hard voca excel file ####"
   ]
  },
  {
   "cell_type": "code",
   "execution_count": 8,
   "metadata": {},
   "outputs": [],
   "source": [
    "hard_voca = pd.read_excel('hard_voca.xlsx')"
   ]
  },
  {
   "cell_type": "markdown",
   "metadata": {},
   "source": [
    "#### 2.4 Put synonims to the one list ####"
   ]
  },
  {
   "cell_type": "code",
   "execution_count": 16,
   "metadata": {},
   "outputs": [],
   "source": [
    "total_syns=[]\n",
    "for i in range(len(ff)):\n",
    "    syns = []\n",
    "    for j in ff.loc[i,['synonim1','synonim2','synonim3','synonim4','synonim5']]:\n",
    "        if pd.isnull(j):\n",
    "            pass\n",
    "        else:\n",
    "            syns.append(j)\n",
    "    total_syns.append(syns)\n",
    "        "
   ]
  },
  {
   "cell_type": "code",
   "execution_count": 17,
   "metadata": {},
   "outputs": [
    {
     "data": {
      "text/plain": [
       "2546"
      ]
     },
     "execution_count": 17,
     "metadata": {},
     "output_type": "execute_result"
    }
   ],
   "source": [
    "len(total_syns)"
   ]
  },
  {
   "cell_type": "markdown",
   "metadata": {},
   "source": [
    "#### 2.5 Make a dictionary with synonims based on the excel file ####"
   ]
  },
  {
   "cell_type": "code",
   "execution_count": 18,
   "metadata": {},
   "outputs": [],
   "source": [
    "di = {}\n",
    "cou = 0\n",
    "for i in range(len(ff)):\n",
    "    temp = ff.loc[i,[\"words\"]]['words']\n",
    "    if temp not in di.keys():\n",
    "        \n",
    "        di[temp] = total_syns[i]\n",
    "        cou+=1\n",
    "        \n",
    "    else:\n",
    "        di[temp] = di[temp] + total_syns[i]\n",
    "        di[temp] = list(set(di[temp]))"
   ]
  },
  {
   "cell_type": "code",
   "execution_count": 19,
   "metadata": {},
   "outputs": [
    {
     "name": "stdout",
     "output_type": "stream",
     "text": [
      "2269\n",
      "2269\n"
     ]
    }
   ],
   "source": [
    "print(len(di))\n",
    "print(cou)"
   ]
  },
  {
   "cell_type": "code",
   "execution_count": 20,
   "metadata": {},
   "outputs": [
    {
     "name": "stdout",
     "output_type": "stream",
     "text": [
      "[' disposed', ' prone', ' proper', ' inclined', ' appropriate', ' suitable']\n"
     ]
    }
   ],
   "source": [
    "print(di['apt'])"
   ]
  },
  {
   "cell_type": "markdown",
   "metadata": {},
   "source": [
    "## 3. Ask the quiz date ##"
   ]
  },
  {
   "cell_type": "markdown",
   "metadata": {},
   "source": [
    "#### 3.1 Recieve the quiz date ####"
   ]
  },
  {
   "cell_type": "code",
   "execution_count": 36,
   "metadata": {},
   "outputs": [
    {
     "name": "stdout",
     "output_type": "stream",
     "text": [
      "Which day you want to test? (1~30) 3\n",
      "Let's take a test for day 3\n"
     ]
    }
   ],
   "source": [
    "ask_day = True\n",
    "while ask_day:\n",
    "    test_day = input(\"Which day you want to test? (1~30) \")\n",
    "    if (int(test_day) > 0) & (int(test_day) < 30):\n",
    "        print(\"Let's take a test for day\",test_day)\n",
    "        ask_day = False"
   ]
  },
  {
   "cell_type": "markdown",
   "metadata": {},
   "source": [
    "#### 3.2 Get the voca for specific date from the dictionary ####"
   ]
  },
  {
   "cell_type": "code",
   "execution_count": 37,
   "metadata": {},
   "outputs": [],
   "source": [
    "days_total = ff.loc[ff[\"days\"]==int(test_day),['words']]"
   ]
  },
  {
   "cell_type": "code",
   "execution_count": 38,
   "metadata": {},
   "outputs": [
    {
     "data": {
      "text/html": [
       "<div>\n",
       "<style scoped>\n",
       "    .dataframe tbody tr th:only-of-type {\n",
       "        vertical-align: middle;\n",
       "    }\n",
       "\n",
       "    .dataframe tbody tr th {\n",
       "        vertical-align: top;\n",
       "    }\n",
       "\n",
       "    .dataframe thead th {\n",
       "        text-align: right;\n",
       "    }\n",
       "</style>\n",
       "<table border=\"1\" class=\"dataframe\">\n",
       "  <thead>\n",
       "    <tr style=\"text-align: right;\">\n",
       "      <th></th>\n",
       "      <th>words</th>\n",
       "    </tr>\n",
       "  </thead>\n",
       "  <tbody>\n",
       "    <tr>\n",
       "      <th>82</th>\n",
       "      <td>a wide range of</td>\n",
       "    </tr>\n",
       "    <tr>\n",
       "      <th>83</th>\n",
       "      <td>afford</td>\n",
       "    </tr>\n",
       "    <tr>\n",
       "      <th>84</th>\n",
       "      <td>announce</td>\n",
       "    </tr>\n",
       "    <tr>\n",
       "      <th>85</th>\n",
       "      <td>chance</td>\n",
       "    </tr>\n",
       "    <tr>\n",
       "      <th>86</th>\n",
       "      <td>chance</td>\n",
       "    </tr>\n",
       "  </tbody>\n",
       "</table>\n",
       "</div>"
      ],
      "text/plain": [
       "              words\n",
       "82  a wide range of\n",
       "83           afford\n",
       "84         announce\n",
       "85           chance\n",
       "86           chance"
      ]
     },
     "execution_count": 38,
     "metadata": {},
     "output_type": "execute_result"
    }
   ],
   "source": [
    "days_total.head()"
   ]
  },
  {
   "cell_type": "markdown",
   "metadata": {},
   "source": [
    "#### 3.3 Reset the index & remove duplicate ####"
   ]
  },
  {
   "cell_type": "code",
   "execution_count": 39,
   "metadata": {},
   "outputs": [],
   "source": [
    "days_total = days_total.reset_index(drop=True)"
   ]
  },
  {
   "cell_type": "code",
   "execution_count": 40,
   "metadata": {},
   "outputs": [
    {
     "data": {
      "text/html": [
       "<div>\n",
       "<style scoped>\n",
       "    .dataframe tbody tr th:only-of-type {\n",
       "        vertical-align: middle;\n",
       "    }\n",
       "\n",
       "    .dataframe tbody tr th {\n",
       "        vertical-align: top;\n",
       "    }\n",
       "\n",
       "    .dataframe thead th {\n",
       "        text-align: right;\n",
       "    }\n",
       "</style>\n",
       "<table border=\"1\" class=\"dataframe\">\n",
       "  <thead>\n",
       "    <tr style=\"text-align: right;\">\n",
       "      <th></th>\n",
       "      <th>words</th>\n",
       "    </tr>\n",
       "  </thead>\n",
       "  <tbody>\n",
       "    <tr>\n",
       "      <th>0</th>\n",
       "      <td>a wide range of</td>\n",
       "    </tr>\n",
       "    <tr>\n",
       "      <th>1</th>\n",
       "      <td>afford</td>\n",
       "    </tr>\n",
       "    <tr>\n",
       "      <th>2</th>\n",
       "      <td>announce</td>\n",
       "    </tr>\n",
       "    <tr>\n",
       "      <th>3</th>\n",
       "      <td>chance</td>\n",
       "    </tr>\n",
       "    <tr>\n",
       "      <th>4</th>\n",
       "      <td>chance</td>\n",
       "    </tr>\n",
       "  </tbody>\n",
       "</table>\n",
       "</div>"
      ],
      "text/plain": [
       "             words\n",
       "0  a wide range of\n",
       "1           afford\n",
       "2         announce\n",
       "3           chance\n",
       "4           chance"
      ]
     },
     "execution_count": 40,
     "metadata": {},
     "output_type": "execute_result"
    }
   ],
   "source": [
    "days_total.head()"
   ]
  },
  {
   "cell_type": "code",
   "execution_count": 41,
   "metadata": {},
   "outputs": [],
   "source": [
    "removed_dup = []\n",
    "for i in range(len(days_total)):\n",
    "    temp = days_total.loc[i,['words']]\n",
    "    #print(temp[0])\n",
    "    if temp[0] not in removed_dup:\n",
    "        removed_dup.append(temp[0])"
   ]
  },
  {
   "cell_type": "code",
   "execution_count": 42,
   "metadata": {},
   "outputs": [
    {
     "data": {
      "text/plain": [
       "['a wide range of', 'afford', 'announce', 'chance', 'chart']"
      ]
     },
     "execution_count": 42,
     "metadata": {},
     "output_type": "execute_result"
    }
   ],
   "source": [
    "removed_dup[0:5]"
   ]
  },
  {
   "cell_type": "markdown",
   "metadata": {},
   "source": [
    "## 4. Generate quizes & update hard voca##"
   ]
  },
  {
   "cell_type": "markdown",
   "metadata": {},
   "source": [
    "#### 4.1 Generate quiz with randomness ####"
   ]
  },
  {
   "cell_type": "code",
   "execution_count": 43,
   "metadata": {},
   "outputs": [],
   "source": [
    "selected = random.sample(removed_dup, 15)"
   ]
  },
  {
   "cell_type": "code",
   "execution_count": 44,
   "metadata": {},
   "outputs": [],
   "source": [
    "test = selected[0:2]\n",
    "# To test codes, I selected it from 0 to 2, \n",
    "# If you trying to take a quiz, you can set it from 0 to 15"
   ]
  },
  {
   "cell_type": "code",
   "execution_count": 45,
   "metadata": {},
   "outputs": [
    {
     "name": "stdout",
     "output_type": "stream",
     "text": [
      "------------\n",
      "Question 1\n",
      "------------\n",
      "What is the synonyn for - Stimulus\n",
      "a) render\n",
      "b) motivation\n",
      "c) allure\n",
      "d) plausible\n",
      "Your answer is a\n",
      "------------\n",
      "Question 2\n",
      "------------\n",
      "What is the synonyn for - Esteem\n",
      "a)  respect\n",
      "b) meticulously\n",
      "c) reflect\n",
      "d) voluble\n",
      "Your answer is a\n",
      "\n",
      "\n",
      "You got 1 correct out of 2 questions\n",
      "Review this word ['stimulus']\n"
     ]
    }
   ],
   "source": [
    "total_q = len(test)\n",
    "your_score = 0\n",
    "remember_this = []\n",
    "cou = 1\n",
    "for q in test:\n",
    "    print(\"------------\")\n",
    "    print(\"Question\", cou)\n",
    "    print(\"------------\")\n",
    "    print(\"What is the synonyn for -\",q.capitalize())\n",
    "    temp = []\n",
    "    the_answer = random.sample(di[q], 1)\n",
    "    wrong_answers = list(di.keys())\n",
    "    wrong_answers.remove(q)\n",
    "    options = random.sample(wrong_answers, 3)\n",
    "    for i in the_answer:\n",
    "        temp.append(i)\n",
    "    for j in options:\n",
    "        temp.append(j)\n",
    "    random.shuffle(temp)\n",
    "    multi = [\"a)\",\"b)\",\"c)\",\"d)\"]\n",
    "    for i in range(4):\n",
    "        print(multi[i],temp[i])\n",
    "    myans = input(\"Your answer is \")\n",
    "    book = {\"a\":0,\"b\":1,\"c\":2,\"d\":3}\n",
    "    yourans = temp[book[myans]]\n",
    "    \n",
    "    if yourans == the_answer[0]:\n",
    "        #print(\"Correct!\")\n",
    "        your_score+=1\n",
    "    else:\n",
    "        #print(yourans)\n",
    "        #print(the_answer[0])\n",
    "        #print(\"It's wrong answer\")\n",
    "        #print(\"The synonyn for\",q.capitalize(),\"is\",the_answer[0])\n",
    "        remember_this.append(q)\n",
    "    cou+=1\n",
    "    \n",
    "    \n",
    "print(\"\")  \n",
    "print(\"\")   \n",
    "print(\"You got\",your_score,\"correct out of\",total_q,\"questions\")\n",
    "\n",
    "if total_q != your_score:\n",
    "    if len(remember_this) == 1:\n",
    "        print(\"Review this word\",remember_this)\n",
    "    else:\n",
    "        print(\"Review these words\",remember_this)\n",
    "        "
   ]
  },
  {
   "cell_type": "markdown",
   "metadata": {},
   "source": [
    "#### 4.2 Update hard voca dataframe and save it as excel ####"
   ]
  },
  {
   "cell_type": "code",
   "execution_count": 48,
   "metadata": {},
   "outputs": [],
   "source": [
    "list_of_hard_voca = list(hard_voca['Voca'])\n",
    "for i in test:\n",
    "    if i in remember_this:\n",
    "        if i in list_of_hard_voca:\n",
    "            where_voca = list_of_hard_voca.index(i)\n",
    "            hard_voca.loc[where_voca][\"incorrect#\"] += 1\n",
    "            \n",
    "        else:\n",
    "            hard_voca=hard_voca.append({\"Voca\" : i , 'incorrect#' : 1, 'correct#' : 0} , ignore_index=True)\n",
    "    else:\n",
    "        if i in list_of_hard_voca:\n",
    "            where_voca = list_of_hard_voca.index(i)\n",
    "            hard_voca.loc[where_voca][\"correct#\"] += 1\n",
    "hard_voca.to_excel('hard_voca.xlsx')           "
   ]
  },
  {
   "cell_type": "markdown",
   "metadata": {},
   "source": [
    "#### 4.3 Check the hard_voca ####"
   ]
  },
  {
   "cell_type": "code",
   "execution_count": 49,
   "metadata": {},
   "outputs": [
    {
     "data": {
      "text/html": [
       "<div>\n",
       "<style scoped>\n",
       "    .dataframe tbody tr th:only-of-type {\n",
       "        vertical-align: middle;\n",
       "    }\n",
       "\n",
       "    .dataframe tbody tr th {\n",
       "        vertical-align: top;\n",
       "    }\n",
       "\n",
       "    .dataframe thead th {\n",
       "        text-align: right;\n",
       "    }\n",
       "</style>\n",
       "<table border=\"1\" class=\"dataframe\">\n",
       "  <thead>\n",
       "    <tr style=\"text-align: right;\">\n",
       "      <th></th>\n",
       "      <th>Voca</th>\n",
       "      <th>incorrect#</th>\n",
       "      <th>correct#</th>\n",
       "    </tr>\n",
       "  </thead>\n",
       "  <tbody>\n",
       "    <tr>\n",
       "      <th>0</th>\n",
       "      <td>laborious</td>\n",
       "      <td>2</td>\n",
       "      <td>0</td>\n",
       "    </tr>\n",
       "    <tr>\n",
       "      <th>1</th>\n",
       "      <td>property</td>\n",
       "      <td>2</td>\n",
       "      <td>0</td>\n",
       "    </tr>\n",
       "    <tr>\n",
       "      <th>2</th>\n",
       "      <td>stimulus</td>\n",
       "      <td>2</td>\n",
       "      <td>0</td>\n",
       "    </tr>\n",
       "  </tbody>\n",
       "</table>\n",
       "</div>"
      ],
      "text/plain": [
       "        Voca incorrect# correct#\n",
       "0  laborious          2        0\n",
       "1   property          2        0\n",
       "2   stimulus          2        0"
      ]
     },
     "execution_count": 49,
     "metadata": {},
     "output_type": "execute_result"
    }
   ],
   "source": [
    "hard_voca = pd.read_excel('hard_voca.xlsx')\n",
    "hard_voca"
   ]
  },
  {
   "cell_type": "code",
   "execution_count": null,
   "metadata": {},
   "outputs": [],
   "source": []
  }
 ],
 "metadata": {
  "kernelspec": {
   "display_name": "Python 3",
   "language": "python",
   "name": "python3"
  },
  "language_info": {
   "codemirror_mode": {
    "name": "ipython",
    "version": 3
   },
   "file_extension": ".py",
   "mimetype": "text/x-python",
   "name": "python",
   "nbconvert_exporter": "python",
   "pygments_lexer": "ipython3",
   "version": "3.7.4"
  }
 },
 "nbformat": 4,
 "nbformat_minor": 2
}
